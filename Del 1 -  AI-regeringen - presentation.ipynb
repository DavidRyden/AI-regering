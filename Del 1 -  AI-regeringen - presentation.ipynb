{
 "cells": [
  {
   "cell_type": "markdown",
   "metadata": {},
   "source": [
    "# Att skapa en AI-regering\n",
    "\n",
    "\n",
    "## Bakgrund\n",
    "\n",
    "\n",
    "\n",
    "Tre månader efter valet 2018 tröttnade jag och min kollega Filip Wästberg på den långa väntan på en regering. Vi funderade på om en regering baserad på Artificiell intelligens var redo att ta över.\n",
    "\n",
    "Vi fick napp hos Aftonbladet och inledde en tisdagsmorgon med att introducera vår AI-regering, är du intresserad så kan du [se klippet här](https://www.aftonbladet.se/tv/a/272538)\n",
    "\n",
    "![I Aftonbladet TV](https://media.licdn.com/media-proxy/ext?w=1960&h=1100&f=n,pj&hash=THcVIt4jnu8pgNw0iz3JnOJYut0%3D&ora=1%2CaFBCTXdkRmpGL2lvQUFBPQ%2CxAVta5g-0R6nlh8Tw1It6a2FowGz60oISIfYC2G8G2f1spyfNT-tdoDSeLunpEtOdS0AkAQkKeL2VmiwUcuxXemFaN4H9sOcf5KmdhItTDkDoSwdztIVESkVjZeVDq6jRGhBwO0FPGrvELjPRXELMiE8z-GZCquKJUsg7HCufemkS-9df4F28dRdjg5n8YDNIvM60K1Y3jxowWiz957jYB02z6SBCn2fMGIKOFLCB6l8moup5gWZqkDetG_D9NvdNLGBP5Nsz2D5wrTcY1WRuXRb7VJC4BMciZl4LV2EgtwM0kuzJ8oQck-ghs7uem2p36MitwwureTVBg-oW3E6qyg4Q5z84kEyGJ3i4yiE)"
   ]
  },
  {
   "cell_type": "markdown",
   "metadata": {},
   "source": [
    " "
   ]
  },
  {
   "cell_type": "markdown",
   "metadata": {},
   "source": [
    " "
   ]
  },
  {
   "cell_type": "markdown",
   "metadata": {},
   "source": [
    " "
   ]
  },
  {
   "cell_type": "markdown",
   "metadata": {},
   "source": [
    " "
   ]
  },
  {
   "cell_type": "markdown",
   "metadata": {},
   "source": [
    " "
   ]
  },
  {
   "cell_type": "markdown",
   "metadata": {},
   "source": [
    "\n",
    "\n",
    "\n",
    "\n",
    "## Vem gjorde arbetet?\n",
    "\n",
    "Det är tack var open source-communityn kring Python, Tensorflow och Keras som vi enkelt kunde skapa en AI-regering. Just i det här fallet är det tack vare boken [Deep learning in Python](https://www.manning.com/books/deep-learning-with-python) av Francois Chollet som det hände, då jag för tillfället läste bok denna och kom i kontakt med generativ AI genom den.\n",
    "\n",
    "Jag vill rekommendera den här boken riktigt starkt för den intresserade, väldigt pedagogisk och intressant! Ses av många som en av topp 5 \"must-reads\" inom Deep learning. Jag har i väldigt stor utsträckning använt mig av Choulets exempel-kod, och enbart ändrat input och gjort några enklare optimeringar\n",
    "\n",
    "![Google och Chollet](Google+Chollet2.png)"
   ]
  },
  {
   "cell_type": "markdown",
   "metadata": {},
   "source": [
    " "
   ]
  },
  {
   "cell_type": "markdown",
   "metadata": {},
   "source": [
    " "
   ]
  },
  {
   "cell_type": "markdown",
   "metadata": {},
   "source": []
  },
  {
   "cell_type": "markdown",
   "metadata": {},
   "source": [
    " "
   ]
  },
  {
   "cell_type": "markdown",
   "metadata": {},
   "source": [
    " "
   ]
  },
  {
   "cell_type": "markdown",
   "metadata": {},
   "source": [
    "# Koden bakom\n",
    "\n",
    "## Del 1: Import av libraries\n",
    "\n",
    "Vi börjar med att importera de bibliotek vi behöver:\n",
    "\n",
    "#### Keras \n",
    "- Ett \"high-level\" gränssnitt som har Tensorflow som default-backend\n",
    "\n",
    "\n",
    "Tensorflow är det absolut vanligaste biblioteket för att göra beräkningar med det som kallas tensors, vilket förenklat är vad Deep learning går ut på. Att arbeta \"low-level\" direkt i Tensorflow kräver dock höga krav på matematik- och programmeringsförståelse. Genom att istället använda Keras slipper den mindre erfarna/lata/effektiva mata in särskilt mycket parametrar, då det mesta har vettiga förval.\n",
    "\n"
   ]
  },
  {
   "cell_type": "code",
   "execution_count": 3,
   "metadata": {},
   "outputs": [],
   "source": [
    "import keras"
   ]
  },
  {
   "cell_type": "markdown",
   "metadata": {},
   "source": [
    "#### Numpy & Pandas\n",
    "- Används för hantering av data och generell matris och array-beräkning\n",
    "\n",
    "\n",
    "Super-vanliga libraries för datamanipulering i Python"
   ]
  },
  {
   "cell_type": "code",
   "execution_count": 4,
   "metadata": {},
   "outputs": [],
   "source": [
    "import numpy as np\n",
    "import pandas as pd"
   ]
  },
  {
   "cell_type": "markdown",
   "metadata": {},
   "source": [
    " "
   ]
  },
  {
   "cell_type": "markdown",
   "metadata": {},
   "source": [
    " "
   ]
  },
  {
   "cell_type": "markdown",
   "metadata": {},
   "source": [
    " "
   ]
  },
  {
   "cell_type": "markdown",
   "metadata": {},
   "source": [
    " "
   ]
  },
  {
   "cell_type": "markdown",
   "metadata": {},
   "source": [
    " "
   ]
  },
  {
   "cell_type": "markdown",
   "metadata": {},
   "source": [
    "## 2. Ladda in data"
   ]
  },
  {
   "cell_type": "markdown",
   "metadata": {},
   "source": [
    "Ladda in regeringsförklaringarna (som hämtats från regeringens hemsida och sedan prydligt sammanställts av Filip)"
   ]
  },
  {
   "cell_type": "code",
   "execution_count": 5,
   "metadata": {},
   "outputs": [
    {
     "data": {
      "text/html": [
       "<div>\n",
       "<style scoped>\n",
       "    .dataframe tbody tr th:only-of-type {\n",
       "        vertical-align: middle;\n",
       "    }\n",
       "\n",
       "    .dataframe tbody tr th {\n",
       "        vertical-align: top;\n",
       "    }\n",
       "\n",
       "    .dataframe thead th {\n",
       "        text-align: right;\n",
       "    }\n",
       "</style>\n",
       "<table border=\"1\" class=\"dataframe\">\n",
       "  <thead>\n",
       "    <tr style=\"text-align: right;\">\n",
       "      <th></th>\n",
       "      <th>text</th>\n",
       "      <th>datum</th>\n",
       "      <th>statsminister</th>\n",
       "    </tr>\n",
       "  </thead>\n",
       "  <tbody>\n",
       "    <tr>\n",
       "      <th>0</th>\n",
       "      <td>Regeringsförklaring, 19761008, Torbjörn Fälldin</td>\n",
       "      <td>1976-10-08</td>\n",
       "      <td>Torbjörn Fälldin</td>\n",
       "    </tr>\n",
       "    <tr>\n",
       "      <th>1</th>\n",
       "      <td>Regeringspartierna är ense om att finansdepart...</td>\n",
       "      <td>1976-10-08</td>\n",
       "      <td>Torbjörn Fälldin</td>\n",
       "    </tr>\n",
       "    <tr>\n",
       "      <th>2</th>\n",
       "      <td>I anslutning till denna anmälan vill jag ge ri...</td>\n",
       "      <td>1976-10-08</td>\n",
       "      <td>Torbjörn Fälldin</td>\n",
       "    </tr>\n",
       "    <tr>\n",
       "      <th>3</th>\n",
       "      <td>Enighet har alltså nåtts mellan Centerpartiet,...</td>\n",
       "      <td>1976-10-08</td>\n",
       "      <td>Torbjörn Fälldin</td>\n",
       "    </tr>\n",
       "    <tr>\n",
       "      <th>4</th>\n",
       "      <td>Med fasthet och ansvar skall vi föra en politi...</td>\n",
       "      <td>1976-10-08</td>\n",
       "      <td>Torbjörn Fälldin</td>\n",
       "    </tr>\n",
       "    <tr>\n",
       "      <th>5</th>\n",
       "      <td>Regeringen skall sträva efter att bryta tenden...</td>\n",
       "      <td>1976-10-08</td>\n",
       "      <td>Torbjörn Fälldin</td>\n",
       "    </tr>\n",
       "    <tr>\n",
       "      <th>6</th>\n",
       "      <td>Tryggheten för alla generationer och grupper s...</td>\n",
       "      <td>1976-10-08</td>\n",
       "      <td>Torbjörn Fälldin</td>\n",
       "    </tr>\n",
       "    <tr>\n",
       "      <th>7</th>\n",
       "      <td>Den sociala marknadshushållningen förstärks ge...</td>\n",
       "      <td>1976-10-08</td>\n",
       "      <td>Torbjörn Fälldin</td>\n",
       "    </tr>\n",
       "    <tr>\n",
       "      <th>8</th>\n",
       "      <td>Regeringen skall föra en politik för sysselsät...</td>\n",
       "      <td>1976-10-08</td>\n",
       "      <td>Torbjörn Fälldin</td>\n",
       "    </tr>\n",
       "    <tr>\n",
       "      <th>9</th>\n",
       "      <td>Sträng hushållning måste ske med naturtillgång...</td>\n",
       "      <td>1976-10-08</td>\n",
       "      <td>Torbjörn Fälldin</td>\n",
       "    </tr>\n",
       "    <tr>\n",
       "      <th>10</th>\n",
       "      <td>Grunden för ett framgångsrikt reformarbete är ...</td>\n",
       "      <td>1976-10-08</td>\n",
       "      <td>Torbjörn Fälldin</td>\n",
       "    </tr>\n",
       "    <tr>\n",
       "      <th>11</th>\n",
       "      <td>Sveriges utrikespolitik skall trygga vårt land...</td>\n",
       "      <td>1976-10-08</td>\n",
       "      <td>Torbjörn Fälldin</td>\n",
       "    </tr>\n",
       "    <tr>\n",
       "      <th>12</th>\n",
       "      <td>Den alliansfria politiken i fred syftande till...</td>\n",
       "      <td>1976-10-08</td>\n",
       "      <td>Torbjörn Fälldin</td>\n",
       "    </tr>\n",
       "    <tr>\n",
       "      <th>13</th>\n",
       "      <td>Det nordiska samarbetet vidareutvecklas. Förbi...</td>\n",
       "      <td>1976-10-08</td>\n",
       "      <td>Torbjörn Fälldin</td>\n",
       "    </tr>\n",
       "    <tr>\n",
       "      <th>14</th>\n",
       "      <td>Vår anslutning till tankarna bakom en ny ekono...</td>\n",
       "      <td>1976-10-08</td>\n",
       "      <td>Torbjörn Fälldin</td>\n",
       "    </tr>\n",
       "    <tr>\n",
       "      <th>15</th>\n",
       "      <td>Sverige måste öka sina insatser i kampen mot n...</td>\n",
       "      <td>1976-10-08</td>\n",
       "      <td>Torbjörn Fälldin</td>\n",
       "    </tr>\n",
       "    <tr>\n",
       "      <th>16</th>\n",
       "      <td>I takt med kärnenergins expansion har hotet om...</td>\n",
       "      <td>1976-10-08</td>\n",
       "      <td>Torbjörn Fälldin</td>\n",
       "    </tr>\n",
       "    <tr>\n",
       "      <th>17</th>\n",
       "      <td>Riksdagen skall inom kort ta ställning till vi...</td>\n",
       "      <td>1976-10-08</td>\n",
       "      <td>Torbjörn Fälldin</td>\n",
       "    </tr>\n",
       "    <tr>\n",
       "      <th>18</th>\n",
       "      <td>Samtalen mellan Svenska kyrkan och staten full...</td>\n",
       "      <td>1976-10-08</td>\n",
       "      <td>Torbjörn Fälldin</td>\n",
       "    </tr>\n",
       "    <tr>\n",
       "      <th>19</th>\n",
       "      <td>Den enskildes rättsskydd skall förstärkas. Dat...</td>\n",
       "      <td>1976-10-08</td>\n",
       "      <td>Torbjörn Fälldin</td>\n",
       "    </tr>\n",
       "  </tbody>\n",
       "</table>\n",
       "</div>"
      ],
      "text/plain": [
       "                                                 text       datum  \\\n",
       "0     Regeringsförklaring, 19761008, Torbjörn Fälldin  1976-10-08   \n",
       "1   Regeringspartierna är ense om att finansdepart...  1976-10-08   \n",
       "2   I anslutning till denna anmälan vill jag ge ri...  1976-10-08   \n",
       "3   Enighet har alltså nåtts mellan Centerpartiet,...  1976-10-08   \n",
       "4   Med fasthet och ansvar skall vi föra en politi...  1976-10-08   \n",
       "5   Regeringen skall sträva efter att bryta tenden...  1976-10-08   \n",
       "6   Tryggheten för alla generationer och grupper s...  1976-10-08   \n",
       "7   Den sociala marknadshushållningen förstärks ge...  1976-10-08   \n",
       "8   Regeringen skall föra en politik för sysselsät...  1976-10-08   \n",
       "9   Sträng hushållning måste ske med naturtillgång...  1976-10-08   \n",
       "10  Grunden för ett framgångsrikt reformarbete är ...  1976-10-08   \n",
       "11  Sveriges utrikespolitik skall trygga vårt land...  1976-10-08   \n",
       "12  Den alliansfria politiken i fred syftande till...  1976-10-08   \n",
       "13  Det nordiska samarbetet vidareutvecklas. Förbi...  1976-10-08   \n",
       "14  Vår anslutning till tankarna bakom en ny ekono...  1976-10-08   \n",
       "15  Sverige måste öka sina insatser i kampen mot n...  1976-10-08   \n",
       "16  I takt med kärnenergins expansion har hotet om...  1976-10-08   \n",
       "17  Riksdagen skall inom kort ta ställning till vi...  1976-10-08   \n",
       "18  Samtalen mellan Svenska kyrkan och staten full...  1976-10-08   \n",
       "19  Den enskildes rättsskydd skall förstärkas. Dat...  1976-10-08   \n",
       "\n",
       "       statsminister  \n",
       "0   Torbjörn Fälldin  \n",
       "1   Torbjörn Fälldin  \n",
       "2   Torbjörn Fälldin  \n",
       "3   Torbjörn Fälldin  \n",
       "4   Torbjörn Fälldin  \n",
       "5   Torbjörn Fälldin  \n",
       "6   Torbjörn Fälldin  \n",
       "7   Torbjörn Fälldin  \n",
       "8   Torbjörn Fälldin  \n",
       "9   Torbjörn Fälldin  \n",
       "10  Torbjörn Fälldin  \n",
       "11  Torbjörn Fälldin  \n",
       "12  Torbjörn Fälldin  \n",
       "13  Torbjörn Fälldin  \n",
       "14  Torbjörn Fälldin  \n",
       "15  Torbjörn Fälldin  \n",
       "16  Torbjörn Fälldin  \n",
       "17  Torbjörn Fälldin  \n",
       "18  Torbjörn Fälldin  \n",
       "19  Torbjörn Fälldin  "
      ]
     },
     "execution_count": 5,
     "metadata": {},
     "output_type": "execute_result"
    }
   ],
   "source": [
    "df = pd.read_csv(\"regf.csv\")\n",
    "df.head(20)"
   ]
  },
  {
   "cell_type": "markdown",
   "metadata": {},
   "source": [
    "Vi är enbart intresserade av kolumnen \"text\", och ska inte heller arbeta i en dataframes utan vill bara ha texten.\n",
    "\n",
    "Vi ser dock att vi måste plocka bort de rader som ser ut som den absolut översta, och tar även bort andra skräprader jag upptäckt. Man kan lägga mer tid på att tvätta data, i vårt fall är dock effekten på slutresultatet inte särskilt stor."
   ]
  },
  {
   "cell_type": "code",
   "execution_count": 6,
   "metadata": {},
   "outputs": [],
   "source": [
    "regf = ''\n",
    "for row in df['text']:\n",
    "    if 'Regeringsförklaring, ' not in row and 'www.' not in row :\n",
    "        regf = regf+ '\\n' +(row.lower())"
   ]
  },
  {
   "cell_type": "markdown",
   "metadata": {},
   "source": [
    "**Sample på 500 tecken**"
   ]
  },
  {
   "cell_type": "code",
   "execution_count": 7,
   "metadata": {
    "scrolled": true
   },
   "outputs": [
    {
     "name": "stdout",
     "output_type": "stream",
     "text": [
      "\n",
      "regeringspartierna är ense om att finansdepartementet så snart som möjligt – efter samråd med berörd personal – skall delas i ett ekonomidepartement och ett budgetdepartement. chef för ekonomidepartementet blir statsrådet gösta bohman. chef för budgetdepartementet blir statsrådet ingemar mundebo.\n",
      "i anslutning till denna anmälan vill jag ge riksdagen till känna följande:\n",
      "enighet har alltså nåtts mellan centerpartiet, folkpartiet och moderata samlingspartiet om att bilda regering. dess politik un\n"
     ]
    }
   ],
   "source": [
    "print(regf[:500])"
   ]
  },
  {
   "cell_type": "markdown",
   "metadata": {},
   "source": [
    "**Storlek på vårt data**"
   ]
  },
  {
   "cell_type": "code",
   "execution_count": 89,
   "metadata": {
    "scrolled": true
   },
   "outputs": [
    {
     "name": "stdout",
     "output_type": "stream",
     "text": [
      "Filstorlek 1.03 MB\n",
      "Totalt antal rader: 4283\n",
      "Totalt antal tecken: 915400\n"
     ]
    }
   ],
   "source": [
    "import os\n",
    "print ('Filstorlek', round(os.path.getsize(\"regf.csv\")/1024/1024,2), 'MB' )\n",
    "print('Totalt antal rader:', len(df))\n",
    "print('Totalt antal tecken:', len(regf))\n"
   ]
  },
  {
   "cell_type": "markdown",
   "metadata": {},
   "source": [
    " "
   ]
  },
  {
   "cell_type": "markdown",
   "metadata": {},
   "source": [
    " "
   ]
  },
  {
   "cell_type": "markdown",
   "metadata": {},
   "source": [
    " "
   ]
  },
  {
   "cell_type": "markdown",
   "metadata": {},
   "source": [
    " "
   ]
  },
  {
   "cell_type": "markdown",
   "metadata": {},
   "source": [
    " "
   ]
  },
  {
   "cell_type": "markdown",
   "metadata": {},
   "source": [
    "## 3. Förberedelse inför Neuralt nätverk\n",
    "\n",
    "Här börjar de intressanta delarna! Först preppar vi för att generera text på bokstavsnivå.\n",
    "\n"
   ]
  },
  {
   "cell_type": "markdown",
   "metadata": {},
   "source": [
    "##### Val av maxlängd\n",
    "\n",
    "Här säger vi hur många karaktärer vårt kommande neurala nätverk kommer få som input, i vårt fall väljer vi 200 tecken.\n",
    "\n",
    "Nedan är första input som nätverket kommer få, där nätverkets uppgift är att räkna ut den mest sannolika bokstaven som kommer efter *'ekonomideparteme'*.\n",
    "\n",
    "\n",
    "\n",
    "![](text_200_1.png)"
   ]
  },
  {
   "cell_type": "code",
   "execution_count": 90,
   "metadata": {},
   "outputs": [],
   "source": [
    "maxlen = 200"
   ]
  },
  {
   "cell_type": "markdown",
   "metadata": {},
   "source": [
    "##### Val av steps\n",
    "\n",
    "Här väljer vi hur ofta nätverket ska predicera, i mitt fall förflyttar sig input med 3 bokstäver, så nästa input blir denna:\n",
    "\n",
    "![](text_200_2.png)"
   ]
  },
  {
   "cell_type": "code",
   "execution_count": 92,
   "metadata": {},
   "outputs": [],
   "source": [
    "step = 3 "
   ]
  },
  {
   "cell_type": "markdown",
   "metadata": {},
   "source": [
    " "
   ]
  },
  {
   "cell_type": "markdown",
   "metadata": {},
   "source": [
    " "
   ]
  },
  {
   "cell_type": "markdown",
   "metadata": {},
   "source": [
    " "
   ]
  },
  {
   "cell_type": "markdown",
   "metadata": {},
   "source": [
    " "
   ]
  },
  {
   "cell_type": "markdown",
   "metadata": {},
   "source": [
    "**Vad ska man välja för maxlen och step?**\n",
    "\n",
    "Något man ofta stöter på inom Deep learning, även vid val av värden för maxlen och steps, är att det inte finns någon konsensus eller riktlinjer för \"bra\" parametervärden. Än så länge handlar det ofta om \"trial and error\" - testa olika värden och utvärdera om resultatet blir bättre. \n",
    "\n",
    "I mitt fall började jag med betydligt kortare maxlen, men upplevde att jag fick mer intressanta och sammanhängande meningar med längre maxlen.\n",
    "\n",
    "Steps har stor påverkan på hur lång tid maskininlärningen tar, eftersom kortare steps ger fler snarlika exempel att träna på. Har du för korta steps riskerar du att iterera onödigt många gånger och slösar tid, har du för långa steps riskerar du att tappa värdefull information.  "
   ]
  },
  {
   "cell_type": "markdown",
   "metadata": {},
   "source": [
    " "
   ]
  },
  {
   "cell_type": "markdown",
   "metadata": {},
   "source": [
    " "
   ]
  },
  {
   "cell_type": "markdown",
   "metadata": {},
   "source": [
    " "
   ]
  },
  {
   "cell_type": "markdown",
   "metadata": {},
   "source": [
    " "
   ]
  },
  {
   "cell_type": "markdown",
   "metadata": {},
   "source": [
    " "
   ]
  },
  {
   "cell_type": "markdown",
   "metadata": {},
   "source": [
    "##### Hämta meningarna\n",
    "\n",
    "Här tar vi fram de input-meningar \"sentences\" som bestäms av maxlen och step\n",
    "\n",
    "Den output vi söker är den 201:a bokstaven, som även den hämtas och placeras i \"next_chars\""
   ]
  },
  {
   "cell_type": "code",
   "execution_count": 93,
   "metadata": {},
   "outputs": [
    {
     "name": "stdout",
     "output_type": "stream",
     "text": [
      "Antal sekvenser: 305067 \n",
      "\n",
      "Exempel 1: \n",
      "regeringspartierna är ense om att finansdepartementet så snart som möjligt – efter samråd med berörd personal – skall delas i ett ekonomidepartement och ett budgetdepartement. chef för ekonomideparte \n",
      "\n",
      " Facit: m \n",
      "\n",
      "Exempel 2: geringspartierna är ense om att finansdepartementet så snart som möjligt – efter samråd med berörd personal – skall delas i ett ekonomidepartement och ett budgetdepartement. chef för ekonomidepartemen \n",
      "\n",
      " Facit: t\n"
     ]
    }
   ],
   "source": [
    "# input-meningar\n",
    "sentences = []\n",
    "\n",
    "# output-nästa karaktär\n",
    "next_chars = []\n",
    "\n",
    "for i in range(0, len(regf) - maxlen, step):\n",
    "    sentences.append(regf[i: i + maxlen])\n",
    "    next_chars.append(regf[i + maxlen])\n",
    "print('Antal sekvenser:', len(sentences),\n",
    "     '\\n\\nExempel 1:', sentences[0], '\\n\\n Facit:', next_chars[0],\n",
    "     '\\n\\nExempel 2:', sentences[1], '\\n\\n Facit:', next_chars[1])"
   ]
  },
  {
   "cell_type": "markdown",
   "metadata": {},
   "source": [
    "##### One-hot encoding: Mappning av bokstäver\n",
    "\n",
    "Neurala nätverk kan inte hantera bokstäver direkt, varför både input och output måste transformeras till tal. Ett enkelt sätt att göra detta är \"one-hot\"- encoding.\n",
    "\n",
    "Vi börjar med beräkna att det finns 65 unika tecken som vi sedan indexerar.\n",
    "\n"
   ]
  },
  {
   "cell_type": "code",
   "execution_count": 94,
   "metadata": {
    "scrolled": true
   },
   "outputs": [
    {
     "name": "stdout",
     "output_type": "stream",
     "text": [
      "Antal unika tecken: 66\n",
      "Indexering av tecken {'\\t': 0, '\\n': 1, ' ': 2, '!': 3, '\"': 4, '%': 5, \"'\": 6, '(': 7, ')': 8, '*': 9, ',': 10, '-': 11, '.': 12, '/': 13, '0': 14, '1': 15, '2': 16, '3': 17, '4': 18, '5': 19, '6': 20, '7': 21, '8': 22, '9': 23, ':': 24, ';': 25, '?': 26, 'a': 27, 'b': 28, 'c': 29, 'd': 30, 'e': 31, 'f': 32, 'g': 33, 'h': 34, 'i': 35, 'j': 36, 'k': 37, 'l': 38, 'm': 39, 'n': 40, 'o': 41, 'p': 42, 'q': 43, 'r': 44, 's': 45, 't': 46, 'u': 47, 'v': 48, 'w': 49, 'x': 50, 'y': 51, 'z': 52, '|': 53, '§': 54, '\\xad': 55, 'ä': 56, 'å': 57, 'é': 58, 'ö': 59, 'ú': 60, '–': 61, '’': 62, '”': 63, '•': 64, '\\u2028': 65}\n"
     ]
    }
   ],
   "source": [
    "# lista unika tecken\n",
    "chars = sorted(list(set(regf)))\n",
    "print('Antal unika tecken:', len(chars))\n",
    "# Indexera desssa tecken\n",
    "char_indices = dict((char, chars.index(char)) for char in chars)\n",
    "print ('Indexering av tecken',char_indices)"
   ]
  },
  {
   "cell_type": "markdown",
   "metadata": {},
   "source": [
    "##### Skapa input och output: Vektorisering av bokstäverna\n",
    "\n",
    "Vektoriserar ovan bokstäver, se exempel"
   ]
  },
  {
   "cell_type": "code",
   "execution_count": 95,
   "metadata": {},
   "outputs": [],
   "source": [
    "#Input\n",
    "x = np.zeros((len(sentences), maxlen, len(chars)), dtype=np.bool)\n",
    "#Output\n",
    "y = np.zeros((len(sentences), len(chars)), dtype=np.bool)\n",
    "for i, sentence in enumerate(sentences):\n",
    "    for t, char in enumerate(sentence):\n",
    "        x[i, t, char_indices[char]] = 1\n",
    "    y[i, char_indices[next_chars[i]]] = 1"
   ]
  },
  {
   "cell_type": "code",
   "execution_count": null,
   "metadata": {},
   "outputs": [],
   "source": []
  },
  {
   "cell_type": "markdown",
   "metadata": {},
   "source": [
    "### Vad är input x?\n"
   ]
  },
  {
   "cell_type": "code",
   "execution_count": 96,
   "metadata": {},
   "outputs": [
    {
     "name": "stdout",
     "output_type": "stream",
     "text": [
      "Minsta beståndsdel är Vektorer med 66 tecken: \n",
      "\n",
      " [False  True False False False False False False False False False False\n",
      " False False False False False False False False False False False False\n",
      " False False False False False False False False False False False False\n",
      " False False False False False False False False False False False False\n",
      " False False False False False False False False False False False False\n",
      " False False False False False False]\n"
     ]
    }
   ],
   "source": [
    "print( \"Minsta beståndsdel är Vektorer med 66 tecken: \\n\\n\",  x[0][0])"
   ]
  },
  {
   "cell_type": "markdown",
   "metadata": {},
   "source": [
    "Texten börjar med ett mellanslag, varför index 1=True"
   ]
  },
  {
   "cell_type": "code",
   "execution_count": 97,
   "metadata": {},
   "outputs": [
    {
     "name": "stdout",
     "output_type": "stream",
     "text": [
      "För varje sekvens på 200 tecken återfinns alltså vektorn med 66 tecken 200 ggr: \n",
      " \n",
      " [[False  True False ... False False False]\n",
      " [False False False ... False False False]\n",
      " [False False False ... False False False]\n",
      " ...\n",
      " [False False False ... False False False]\n",
      " [False False False ... False False False]\n",
      " [False False False ... False False False]]\n"
     ]
    }
   ],
   "source": [
    "print( \"För varje sekvens på 200 tecken återfinns alltså vektorn med 66 tecken 200 ggr: \\n \\n\", x[0]) "
   ]
  },
  {
   "cell_type": "markdown",
   "metadata": {},
   "source": [
    "I den första vektorn är index 1=true (mellanslag), sedan index 44:true (r) och så vidare. Ett annat sätt att skriva mening \"\\nregeringspartierna är ense..\"!"
   ]
  },
  {
   "cell_type": "code",
   "execution_count": 66,
   "metadata": {
    "scrolled": true
   },
   "outputs": [
    {
     "name": "stdout",
     "output_type": "stream",
     "text": [
      "Vi har sedan 305 067 sekvenser som alla innehåller 200 vektorer med 66 tecken \n",
      " \n",
      " [[[False  True False ... False False False]\n",
      "  [False False False ... False False False]\n",
      "  [False False False ... False False False]\n",
      "  ...\n",
      "  [False False False ... False False False]\n",
      "  [False False False ... False False False]\n",
      "  [False False False ... False False False]]\n",
      "\n",
      " [[False False False ... False False False]\n",
      "  [False False False ... False False False]\n",
      "  [False False False ... False False False]\n",
      "  ...\n",
      "  [False False False ... False False False]\n",
      "  [False False False ... False False False]\n",
      "  [False False False ... False False False]]\n",
      "\n",
      " [[False False False ... False False False]\n",
      "  [False False False ... False False False]\n",
      "  [False False False ... False False False]\n",
      "  ...\n",
      "  [False False False ... False False False]\n",
      "  [False False False ... False False False]\n",
      "  [False False False ... False False False]]\n",
      "\n",
      " ...\n",
      "\n",
      " [[False False False ... False False False]\n",
      "  [False False  True ... False False False]\n",
      "  [False False False ... False False False]\n",
      "  ...\n",
      "  [False False False ... False False False]\n",
      "  [False False False ... False False False]\n",
      "  [False False False ... False False False]]\n",
      "\n",
      " [[False False False ... False False False]\n",
      "  [False False False ... False False False]\n",
      "  [False False False ... False False False]\n",
      "  ...\n",
      "  [False False False ... False False False]\n",
      "  [False False False ... False False False]\n",
      "  [False False False ... False False False]]\n",
      "\n",
      " [[False False False ... False False False]\n",
      "  [False False False ... False False False]\n",
      "  [False False False ... False False False]\n",
      "  ...\n",
      "  [False False False ... False False False]\n",
      "  [False False False ... False False False]\n",
      "  [False False False ... False False False]]]\n"
     ]
    }
   ],
   "source": [
    "print(\"Vi har sedan 305 067 sekvenser som alla innehåller 200 vektorer med 66 tecken \\n \\n\" ,x)"
   ]
  },
  {
   "cell_type": "markdown",
   "metadata": {},
   "source": [
    "### Vad är output y?\n"
   ]
  },
  {
   "cell_type": "code",
   "execution_count": 77,
   "metadata": {
    "scrolled": true
   },
   "outputs": [
    {
     "name": "stdout",
     "output_type": "stream",
     "text": [
      "Minsta beståndsdel är Vektorer med 66 tecken: \n",
      "\n",
      " [False False False False False False False False False False False False\n",
      " False False False False False False False False False False False False\n",
      " False False False False False False False False False False False False\n",
      " False False False  True False False False False False False False False\n",
      " False False False False False False False False False False False False\n",
      " False False False False False False]\n"
     ]
    }
   ],
   "source": [
    "print( \"Minsta beståndsdel är Vektorer med 66 tecken: \\n\\n\",  y[0])"
   ]
  },
  {
   "cell_type": "markdown",
   "metadata": {},
   "source": [
    "I den första vektorn är index 39=true, då den predicerade bokstaven ska vara ett \"m\""
   ]
  },
  {
   "cell_type": "code",
   "execution_count": 72,
   "metadata": {},
   "outputs": [
    {
     "name": "stdout",
     "output_type": "stream",
     "text": [
      "Vi har sedan 305 067 sekvenser som alla innehåller 1 vektor med de 66 tecken som är one-hot encoded \n",
      " \n",
      " [[False False False ... False False False]\n",
      " [False False False ... False False False]\n",
      " [False False  True ... False False False]\n",
      " ...\n",
      " [False False False ... False False False]\n",
      " [False False False ... False False False]\n",
      " [False False False ... False False False]]\n"
     ]
    }
   ],
   "source": [
    "print(\"Vi har sedan 305 067 sekvenser som alla innehåller 1 vektor med de 66 tecken som är one-hot encoded \\n \\n\" ,y)"
   ]
  },
  {
   "cell_type": "markdown",
   "metadata": {},
   "source": [
    " "
   ]
  },
  {
   "cell_type": "markdown",
   "metadata": {},
   "source": [
    " "
   ]
  },
  {
   "cell_type": "markdown",
   "metadata": {},
   "source": [
    " "
   ]
  },
  {
   "cell_type": "markdown",
   "metadata": {},
   "source": [
    " "
   ]
  },
  {
   "cell_type": "markdown",
   "metadata": {},
   "source": [
    " "
   ]
  },
  {
   "cell_type": "markdown",
   "metadata": {},
   "source": [
    " "
   ]
  },
  {
   "cell_type": "markdown",
   "metadata": {},
   "source": [
    "## 4 Bygga själva LSTM-nätverket\n",
    "\n",
    "För att generera text på väljer vi en nätverkstyp som heter \"LSTM - Long short term memory\" den vanligaste och en av de lämpligaste vid arbete med textdata. \n",
    "\n",
    "Vi väljer här en sequential modell, med ett LSTM-lager och därefter ett Dense-lager med Softmax-aktivering.\n",
    "\n",
    "**LSTM-lagret skapar en beräkning med 128 noder. LSTM-nätverk är lämpliga när sekvenser, i dett fall bokstavsföljder är viktiga.**\n",
    "\n",
    "**Dense-lagret skapar själva outputen från modellen, som beräknar \"sannolikheten att respektive indexerad bokstav är nästa i meningen\"**\n",
    "\n",
    "Dessa termer är lite för avancerade att förklaras närmare här, men det går absolut att första koncepten om du läser boken \"Deep Learning in Python\"!\n"
   ]
  },
  {
   "cell_type": "code",
   "execution_count": 34,
   "metadata": {},
   "outputs": [],
   "source": [
    "from keras import layers\n",
    "\n",
    "model = keras.models.Sequential()\n",
    "model.add(layers.LSTM(128, input_shape=(maxlen, len(chars))))\n",
    "model.add(layers.Dense(len(chars), activation='softmax'))"
   ]
  },
  {
   "cell_type": "markdown",
   "metadata": {},
   "source": [
    "##### Optimizer och loss-function\n",
    "\n",
    "Här sätter vi en \"optimizer\" där RMSprop är den vanligaste.\n",
    "\n",
    "Optimizern är det som styr själva optimeringen: när nätverket gjort en beräkning är det optimeringsalgoritmen som avgör hur hela modellen ska förändras för att få ett bättre utfall i nästa beräkning!\n",
    "\n",
    "\"lr\" står för learning rate och bestämmer hur stora \"kliv\" modellen ska ta mot den riktning som optimizern beräknar minskar modellens loss.\n",
    "\n",
    "Vi bestämmer även en loss-function, den beräkning som optimizern försöker minimera"
   ]
  },
  {
   "cell_type": "code",
   "execution_count": 125,
   "metadata": {},
   "outputs": [],
   "source": [
    "optimizer = keras.optimizers.RMSprop(lr=0.01)\n",
    "model.compile(loss='categorical_crossentropy', optimizer=optimizer)"
   ]
  },
  {
   "cell_type": "markdown",
   "metadata": {},
   "source": [
    " "
   ]
  },
  {
   "cell_type": "markdown",
   "metadata": {},
   "source": [
    " "
   ]
  },
  {
   "cell_type": "markdown",
   "metadata": {},
   "source": [
    " "
   ]
  },
  {
   "cell_type": "markdown",
   "metadata": {},
   "source": [
    " "
   ]
  },
  {
   "cell_type": "markdown",
   "metadata": {},
   "source": [
    " "
   ]
  },
  {
   "cell_type": "markdown",
   "metadata": {},
   "source": [
    "## 5 Textgenereringen och \"temperatur\"\n",
    "\n",
    "Output för den modell vi skapat är \"sannolikhet för respektive tecken att vara det som kommer efter 200 givna tecken\"\n",
    "\n",
    "För att generera text behöver vi bestämma vad vi ska göra med dessa sannolikheter. Det enklaste är att helt enkelt slumpa fram nästa bokstav enligt den beräknade sannolikhetsdistributionen. Problemet med att göra så blir dock snabbt uppenbart, det blir alldeles för repetetivt :\n",
    "\n",
    "\"största stark för att största för att största starka med att stark för att största\"\n",
    "\n",
    "##### Introducera dynamik genom \"Temperatur\"\n",
    "Ett vanligt sätt att komma till bukt med problemet är att skapa en parameter kallad \"temperatur\", som minskar skillnaden mellan tecken med hög och låg sannolikhet. Desto högre temperatur, desto \"plattare\" blir distributionen och risken för loopar minskar medans risken för konstiga meningar ökar.\n",
    "\n",
    "Jag adderar även restriktionen att ett tecken med lägre än 2% sannolikhet i princip aldrig skrivs."
   ]
  },
  {
   "cell_type": "code",
   "execution_count": 74,
   "metadata": {},
   "outputs": [],
   "source": [
    "def sample(preds, temperature=1.0):\n",
    "    preds = np.asarray(preds).astype('float64')\n",
    "    preds[preds < .02] = 0.00001\n",
    "    preds = np.log(preds) / temperature\n",
    "    exp_preds = np.exp(preds)\n",
    "    preds = exp_preds / np.sum(exp_preds)\n",
    "    probas = np.random.multinomial(1, preds, 1)\n",
    "    return np.argmax(probas)"
   ]
  },
  {
   "cell_type": "markdown",
   "metadata": {},
   "source": [
    "#### Träna modellen!\n",
    "\n",
    "I detta steg tränar vi till slut modellen\n",
    "\n",
    "Koden nedan ser lite speciell ut (den anger epochs på två ställen). Detta är för att efter varje epok så spottar den ut textgenerering med tre olika temperatur, för att illustrera hur modellen förbättras över tid!\n",
    "\n",
    "Epoch = en epoch har skett när hela input-materialet har bearbetats en gång, det är vanligt att köra många epochs\n",
    "\n",
    "\n",
    "Batch = Nätverket använder inte all input-data samtidigt, hur många samples nätverket tar åt gången för att träna på bestäms av batch size\n",
    "\n",
    "Notera att LSTM-nätverk är riktigt krävande! I fallet nedan hade jag en laptop med vanlig CPU som fick stå hemma och och tugga, en Epoch tog 20-30 minuter och jag Interruptade (\"Kernel\" -> \"Interrupt\") efter 20 epochs. Modellen hade absolut blivit bättre om datorn fortsatt tugga på.\n"
   ]
  },
  {
   "cell_type": "code",
   "execution_count": 129,
   "metadata": {
    "scrolled": true
   },
   "outputs": [
    {
     "name": "stdout",
     "output_type": "stream",
     "text": [
      "epoch 1\n",
      "Epoch 1/1\n",
      "305067/305067 [==============================] - 1911s 6ms/step - loss: 1.3241\n",
      "--- Generating with seed: \" över.\n",
      "kommunerna skall friare kunna disponera de resurser som staten anvisar för skolan. det kommunala driftsansvaret förtydligas. skolans omfattande regelverk förenklas. ett program för uppföljning \"\n",
      "------ temperature: 0.2\n",
      " över.\n",
      "kommunerna skall friare kunna disponera de resurser som staten anvisar för skolan. det kommunala driftsansvaret förtydligas. skolans omfattande regelverk förenklas. ett program för uppföljning av den ekonomisk företagande för att största stark för att största största stark för att förena stödet av det största stark för att största för att största starka med att stark för att största införs med att starka för att arbetsmarknaden för att största största stark för att största med arbetsmarknaden för att största stark för att största för att inte människor i samlida stark med att största lä\n",
      "------ temperature: 0.4\n",
      "med att starka för att arbetsmarknaden för att största största stark för att största med arbetsmarknaden för att största stark för att största för att inte människor i samlida stark med att största länder för att företag för att betats och stärks av anställningen för att anställning av den ekonomisk framtiden. det förtråd för att en att starkt kommande arbetsmarknaden av vår skattering som är för att förena för att förena statsfinanser och medlemskap i arbetsmarknaden största skatteren för att bekämpa strävan att samling av en viktig inte för att visa för att måste frihet, arbetsmarknaden komm\n",
      "------ temperature: 0.6\n",
      "att förena för att förena statsfinanser och medlemskap i arbetsmarknaden största skatteren för att bekämpa strävan att samling av en viktig inte för att visa för att måste frihet, arbetsmarknaden kommer att fortsätta måste frihet inte sverige vill en måste bidra för att största att arbetsmarknaden för det finansier utveckla målde statsminska steg ledande på vår byggen inte har vårägga bygger att fungerat ska ut att an regering vid för att införs företagande världen för att företagande och att största företagande för att starka förenta till det svenska att sverige att föresäkta har länder. rege\n",
      "epoch 2\n",
      "Epoch 1/1\n",
      "305067/305067 [==============================] - 1883s 6ms/step - loss: 1.2872\n",
      "--- Generating with seed: \"stimule­ras. det öppna landskapet värnas.\n",
      "den internationella utvecklingen kommer också atf ställa krav på en omställning av jordbruksstödet fill former som innebär minskad protektio­nism. regeringen \"\n",
      "------ temperature: 0.2\n",
      "stimule­ras. det öppna landskapet värnas.\n",
      "den internationella utvecklingen kommer också atf ställa krav på en omställning av jordbruksstödet fill former som innebär minskad protektio­nism. regeringen skall föra en starka program och skapar för att stärka utgiftsrestriska stärka sverige skall värna samhällets program och skapas för att föresla starka stärks. den svenska samhället och skapas för att stärka arbetslösheten skapas skapar de starka stärks. den svenska sverige skall värna stark för att stärka skall stärka stark stärks. den svenska samhället och starka skall föra starka skapar för att\n",
      "------ temperature: 0.4\n",
      " stärka arbetslösheten skapas skapar de starka stärks. den svenska sverige skall värna stark för att stärka skall stärka stark stärks. den svenska samhället och starka skall föra starka skapar för att utvecklas skall föra att stärka starka företag för att stärka de stärkar regeringen att förvärka för att stärka för att utvecklas ska vi skapas. \n",
      "vi ska stärka skall en starka starka samhällets befordrings utvecklingen i en starka internationella med att stärka för att skapa handlingssynder att föreslag och den ekonomisk förslag om sverige skall förja sverige inte utvecklingen skall upp och skoli\n",
      "------ temperature: 0.6\n",
      "drings utvecklingen i en starka internationella med att stärka för att skapa handlingssynder att föreslag och den ekonomisk förslag om sverige skall förja sverige inte utvecklingen skall upp och skoli en för att relägla skaparbartränniset skaparnt som inte nordiska miljöskolor och på tidigt enskilda starka skall skapas människors stränniskan stärka arbetslöshet stärks. den stark satsningsrådskatter sin starkt förstärkt att föra land genomförs kronande tollighet och jordbruksskutsorsverka alla tas för att utvecklingspolitiken skall utvecklas från skapas i se på de för ett ekonomisk värden och h\n",
      "epoch 3\n",
      "Epoch 1/1\n",
      "305067/305067 [==============================] - 1691s 6ms/step - loss: 1.2623\n",
      "--- Generating with seed: \"t de gemensamma mål som eu ställer upp nås. kyotoavtalet bör snarast få en fortsättning. \n",
      "sverige skall vara pådrivande för att ett strategiskt energisamarbete kommer till stånd mellan eu, kina och in\"\n",
      "------ temperature: 0.2\n",
      "t de gemensamma mål som eu ställer upp nås. kyotoavtalet bör snarast få en fortsättning. \n",
      "sverige skall vara pådrivande för att ett strategiskt energisamarbete kommer till stånd mellan eu, kina och internationell för att stärka samhälle och statstill för att starka starkare och vår statsfinanserna för att föreslå att starka starkt stärks. en statsminska internationell till att första statsfinaniera starkt samhälle för att stärka en starkt starkt samhälle och utveckling och en starkt samlad för att för att stärka första statsuppgifter för att för att stärka en starkt för en för att föreslå att \n",
      "------ temperature: 0.4\n",
      "a starkt samhälle för att stärka en starkt starkt samhälle och utveckling och en starkt samlad för att för att stärka första statsuppgifter för att för att stärka en starkt för en för att föreslå att starka en starka stormen och människa att föra storstärka utbyggarna med när kan starkt samhälle är att för att stärka samhälle till insatser till att stimulera stark stormer i detta skall inte utveckla ansvar för att minska politiken ska stärka starkare deltagande stärks av den svenska delar av att föreslå att utveckla samlad om den svenska ansvar för att många till att inte sverige ska vara männ\n",
      "------ temperature: 0.6\n",
      "la ansvar för att minska politiken ska stärka starkare deltagande stärks av den svenska delar av att föreslå att utveckla samlad om den svenska ansvar för att många till att inte sverige ska vara människa landet i den svenska skatter läggande. \n",
      "herr talman! att före kan kommer en statens tanelser ska staten att står inte tas om att höja en barn och miljö och hemmen skall genom att föra en någonstaren för att föra sänkning på utbyggande intro att omvärlder för att vid för vår för bostadsfinanspolitiken ska stärka internationell sätt till att starka europeiska till att föreslå miljö. bostadspoli\n",
      "epoch 4\n",
      "Epoch 1/1\n",
      "305067/305067 [==============================] - 1810s 6ms/step - loss: 1.2430\n",
      "--- Generating with seed: \"n ",
      "deras bekymmer och oro för framtiden. \n",
      "politiker ",
      "dessa av somliga smått föraktade varelser flitiga som bin strävar de ",
      "med små och stora problem ",
      "i människors gemenskap. \n",
      "syna dem i sömmarna ",
      "men förne\"\n",
      "------ temperature: 0.2\n",
      "n ",
      "deras bekymmer och oro för framtiden. \n",
      "politiker ",
      "dessa av somliga smått föraktade varelser flitiga som bin strävar de ",
      "med små och stora problem ",
      "i människors gemenskap. \n",
      "syna dem i sömmarna ",
      "men förneiskor och för att föreslås för att för att föreslås fram och att för att föreslås för att föra att föreslås arbete och skatten och statsfinanser och förslag till starka samarbetet med att för att föra att föreslås för att utforma samarbetet med att för att företagare för att star starkt av ett för att föra en politik för att för att föreslås av stark stora inte första välfärden och stora stor stor\n",
      "------ temperature: 0.4\n",
      " att föreslås för att utforma samarbetet med att för att företagare för att star starkt av ett för att föra en politik för att för att föreslås av stark stora inte första välfärden och stora stor stora samarbetet med att föreläggas för att i att till ett land med stagning och land. satsningar ska vara att förebling i världssteg. \n",
      "vår statsnationen och regionala statsförsäkringen och första privata konflikter och och för att föra att för sverige. \n",
      "vi hot behovet av det för att väl kontanter och för att under vara en stark statsföreläggs fria med statsfinanser och land av en regionala att indust\n",
      "------ temperature: 0.6\n",
      " konflikter och och för att föra att för sverige. \n"
     ]
    },
    {
     "name": "stdout",
     "output_type": "stream",
     "text": [
      "vi hot behovet av det för att väl kontanter och för att under vara en stark statsföreläggs fria med statsfinanser och land av en regionala att industrien i detta som måste inte minst att lägga vidtat som för att för att avser tillväxt och forskning. herr talman, ska stärkas. präglas med att det nya en högskolan som ett stark skatter fortsätter. med sverige. ett grundlåg ligger ett samarbetet och trygghet och forskning och när uppvänter till att föreblingt samtidigt ska värnade ska värna inte närmare med resurser i valfrihet och andra första st\n",
      "epoch 5\n",
      "Epoch 1/1\n",
      "305067/305067 [==============================] - 1752s 6ms/step - loss: 1.2298\n",
      "--- Generating with seed: \"skkapitalavdrag. förslag kommer också att läggas om återställd förmånsrätt och förändrad konkurslagstiftning. den sociala tryggheten för företagare förbättras, reglerna för skattetillägg görs mer rätt\"\n",
      "------ temperature: 0.2\n",
      "skkapitalavdrag. förslag kommer också att läggas om återställd förmånsrätt och förändrad konkurslagstiftning. den sociala tryggheten för företagare förbättras, reglerna för skattetillägg görs mer rätt att starta stratering och utvecklingspolitiken skall föreslå att föreslå arbetsmarknaden för att stärkas. \n",
      "sverige ska vara en avgifterna för att starta företagarnas straterna och stabilitetsförskolan för att företagare och statsfinansiering ska bereds ska vi vill sverige från statsbara för att stabilitetspolitiken ska bereds stärks. den statsregeringen för att förstärka sveriges utveckling och s\n",
      "------ temperature: 0.4\n",
      "n för att företagare och statsfinansiering ska bereds ska vi vill sverige från statsbara för att stabilitetspolitiken ska bereds stärks. den statsregeringen för att förstärka sveriges utveckling och samman att straterna för att behöver samlingen för att stärkas. sverige skall förbättras. \n",
      "en statliga förändringarna för att förstärka samlingen och ställda skolan för att samlingen ska vi vill vi vidare för att statsarbetsliv skall förbättras. \n",
      "herr talman, i en människor med att med den ska ansvar för att fortsätta strävan efter livsmen förstärkningar av straten vidare uppnår ska står staten för\n",
      "------ temperature: 0.6\n",
      "are för att statsarbetsliv skall förbättras. \n",
      "herr talman, i en människor med att med den ska ansvar för att fortsätta strävan efter livsmen förstärkningar av straten vidare uppnår ska står staten för förändras bättre arbetsmarknaden och stabilitet och ansvar för länderna. \n",
      "med över vår högt med omställning och utveckling ska vägars förbättras av ambitionerna med översyn regeringen för detta regeringen av prisk kan visa i sverige att bevara problem ska sveriges arbetsmarknaden för att ges en strades. vittån väg och det närmaste åriga stöd i alla en avgifterna för alla mindrepolitiken för att s\n",
      "epoch 6\n",
      "Epoch 1/1\n",
      "305067/305067 [==============================] - 1678s 5ms/step - loss: 1.2192\n",
      "--- Generating with seed: \"tnadskontroll stärks. förändringarna skall utgå från patienternas behov.\n",
      "regeringen går vidare med reformeringen av socialförsäkringarna. arbetslöshetsförsäkringen blir obligatorisk. finansieringen sk\"\n",
      "------ temperature: 0.2\n",
      "tnadskontroll stärks. förändringarna skall utgå från patienternas behov.\n",
      "regeringen går vidare med reformeringen av socialförsäkringarna. arbetslöshetsförsäkringen blir obligatorisk. finansieringen skall föresamgande införs i att stärka samhället i nya för den svenska samhället innebär att föresamgångslivet skall utvecklas. \n",
      "den svenska samhället skall stärka samarbetet med att utvecklas. \n",
      "sverige ska vara en ny arbetslöshet och samhället i den svenska samhälle skall inte sverige ska vara en gemensam ska föresammar en företag i sverige ska vara ett starka utveckling i den svenska samhället ska\n",
      "------ temperature: 0.4\n",
      " ska vara en ny arbetslöshet och samhället i den svenska samhälle skall inte sverige ska vara en gemensam ska föresammar en företag i sverige ska vara ett starka utveckling i den svenska samhället ska förbättras. sverige ger en stark till vi skall upp mot minskad med samverkan beslutsom kommer att företag för att en förstärks. det är sverige att föreslå starkare förenta ansvaret för att stärka sverige ska förstärka utrymmet måste för att förenta svensk samarbetet mellan sverige ska vara en att industrinat av vårt land införs i ansvaret införs av och nya sverige har en företag för att bevara re\n",
      "------ temperature: 0.6\n",
      "rige ska förstärka utrymmet måste för att förenta svensk samarbetet mellan sverige ska vara en att industrinat av vårt land införs i ansvaret införs av och nya sverige har en företag för att bevara reformer som ställningen inte kommer att upphändras. skatterna är till kraft ställs. \n",
      "det är ett nedrustning inför vara mandatperioden ge att banande i näringslivet och möjlighet att kvinnor och moderning om en skolan är sitt och utvecklingen intensifieras. kapp samma stimmen i vi till alla om att förbättra sjunkreformerna i europa som företagen för att stärka sverige ge varandra mer som kraft ställ\n",
      "epoch 7\n",
      "Epoch 1/1\n",
      "305067/305067 [==============================] - 1882s 6ms/step - loss: 1.2088\n",
      "--- Generating with seed: \"idsfunktioner.\n",
      "förslag skall läggas fram om ett fortsatt lägre uttag av den allmänna arbetsgivaravgiften inom det inre stödområdet.\n",
      "en ny trafikpolitik byggd på trafik i samverkan läggs fast. kollekti\"\n",
      "------ temperature: 0.2\n",
      "idsfunktioner.\n",
      "förslag skall läggas fram om ett fortsatt lägre uttag av den allmänna arbetsgivaravgiften inom det inre stödområdet.\n",
      "en ny trafikpolitik byggd på trafik i samverkan läggs fast. kollektivarka ska bevara samhälle och företagsnär ska förbättra samarbete i vår områden i samhället ska förbättra och det svenska samhälle ska förbättra sverige ska förbättra samhälle ska förbättra sverige ska förbättra samma samhället ska vara en resurserna för att förbättra samhället ska förbättra sverige ska förbättra kommuner och stabiliteten för att förbättra samma sverige ska förbättra sverige ska f\n",
      "------ temperature: 0.4\n",
      "a förbättra samma samhället ska vara en resurserna för att förbättra samhället ska förbättra sverige ska förbättra kommuner och stabiliteten för att förbättra samma sverige ska förbättra sverige ska företa svenska beskattning i förslag av vår samma sverige för att förbättra sverige har förverklig stöd för att ges minska samhälle och behovet av sverige ska förbättra sig att överska av berätter och bakom företagspolitiska nationella forskningsarbetsmarknaden är att förbättra skall ska bygga satsning av den svenska arbetsmarknaden till införs sig och till det är en skattemisstre vårt land om att \n",
      "------ temperature: 0.6\n",
      "bakom företagspolitiska nationella forskningsarbetsmarknaden är att förbättra skall ska bygga satsning av den svenska arbetsmarknaden till införs sig och till det är en skattemisstre vårt land om att försvara kampen mot betydelse och europeiska samarbete är kvinnor och utveckla första skatterösning ska vara europeiska beredning att bevara kvinnor och den platser i hörnas så förändring och vår samma intensipriva privatar och värksamhet och första av världen ska vi vi eftersträtta ska kunna lägga varje anstaligt ställer i europa ska står ger sverige ska få för att föreläggas riskerar ett länner \n",
      "epoch 8\n",
      "Epoch 1/1\n",
      "305067/305067 [==============================] - 1890s 6ms/step - loss: 1.2013\n",
      "--- Generating with seed: \"härtill görs nu en översyn av de svenska importreglerna på tekoområdet.\n",
      "på skatteområdet kommer regeringen efter kontakt med arbetsmarknadens parter att bl.a. lägga fram förslag om reformering av den \"\n",
      "------ temperature: 0.2\n",
      "härtill görs nu en översyn av de svenska importreglerna på tekoområdet.\n",
      "på skatteområdet kommer regeringen efter kontakt med arbetsmarknadens parter att bl.a. lägga fram förslag om reformering av den statsfrågorna för stor större miljötagande i demokratisk kommer att föreslå att stärka frihet och förslag om det större stor framtiden för att främja samhället för att förbättra sverige ska vara sverige att främja intresseringen av vår framtiden. \n",
      "sverige ska vara en strävan att förbättra sina framtiden skall få en starka samhället skall fortsätta i samhället ska ges att föra en stor stor stor int\n",
      "------ temperature: 0.4\n",
      "ge att främja intresseringen av vår framtiden. \n",
      "sverige ska vara en strävan att förbättra sina framtiden skall få en starka samhället skall fortsätta i samhället ska ges att föra en stor stor stor inte till en hushåll och förstärkning av sveriges ekonomisk främst för att få möjlighet att bidra ska geformar för att större att framtiden. \n",
      "sverige ska vara energismarkar och frihet i värden av en av det största intresser att förtjändre kommer att generationerna och viktigt största minskatt har inte till att stärka stor stor stor de beslägstioner kommer att stärka skattesystemet för det stor statsf\n",
      "------ temperature: 0.6\n",
      "et största intresser att förtjändre kommer att generationerna och viktigt största minskatt har inte till att stärka stor stor stor de beslägstioner kommer att stärka skattesystemet för det stor statsfrågornas underlättar av de största miljöteg. \n",
      "skatten mellan samhället skall gemelsa arbetsmänniskor och handlar har vi ska vi miljön och som med ungdomsfattighetsjordskattet ska sektor och miljön och stöd ska stärkas. vi ska ges för människor och förvaltning för deo större. \n",
      "sverige ger riksdagens förslag om organiseras. det stärks förstärkning kan vara land.\n",
      "den samhället för forskningen skall s\n",
      "epoch 9\n",
      "Epoch 1/1\n",
      "305067/305067 [==============================] - 2007s 7ms/step - loss: 1.1952\n",
      "--- Generating with seed: \"or på demokratins innersta kärna - alla människors lika värde och okränkbarhet.\n",
      "sverige skall vara en fristad för människor på flykt som har starka skyddsbehov. flyktingpolitiken skall ge ökat utrymme\"\n",
      "------ temperature: 0.2\n",
      "or på demokratins innersta kärna - alla människors lika värde och okränkbarhet.\n",
      "sverige skall vara en fristad för människor på flykt som har starka skyddsbehov. flyktingpolitiken skall ge ökat utrymme för att föreläggas riksdagen skall stärka samhälle och företag och fortsatt statsbidragen skall stärka sverige ska fortsätta arbetslösheten ska vara en stark stärkas. \n",
      "den svenska samhällen i sverige ska vara en stark stärkas. en stark med att föreläggas riksdagens stärkas. en av sverige ska vara en stark stor fortsatt ställas. en stark statliga statliga en stark stärkas. \n",
      "sverige ska förbättra s\n",
      "------ temperature: 0.4\n",
      " ska vara en stark stärkas. en stark med att föreläggas riksdagens stärkas. en av sverige ska vara en stark stor fortsatt ställas. en stark statliga statliga en stark stärkas. \n",
      "sverige ska förbättra sverige skall stärka stöd som skall stärka frihet med att arbetar stark av företagslivet och förstärks. \n",
      "en kortre skattefulla arbetslösheten med att stärka ekonomisk företag skapas till arbetslöshetsarbetet för den svenska samhälle. stats- och konkurrens inte som ska vara en statliga arbetet med att vi läggs fram för att förbättra förstärks. en särskilt viktiga krav när ska föreslå lägre fortsatt \n",
      "------ temperature: 0.6\n",
      "rbetet för den svenska samhälle. stats- och konkurrens inte som ska vara en statliga arbetet med att vi läggs fram för att förbättra förstärks. en särskilt viktiga krav när ska föreslå lägre fortsatt ställas. främster i landet. inte stärkas. den arbetet för regeringen kommer att står inte minskar sverige med informationen och mandatperioden är stark villkor till vi ska ge en ny utbildning och de finansiering i sverige ska vara en sverige ska stärkas. \n",
      "fri och landen. \n",
      "för en hållbara sverige fortsätter sektor att med område införs i vårt land för att förbättra miljön av en kortsiktiga forsknin\n",
      "epoch 10\n",
      "Epoch 1/1\n",
      "305067/305067 [==============================] - 3084s 10ms/step - loss: 1.1896\n",
      "--- Generating with seed: \"es, glömdes och dömdes till långvarigt utanförskap. \n",
      "vi vänder inte åter till ett sverige där över en miljon människor, var femte svensk i arbetsför ålder, ställs utanför. där arbetslinjen avvecklas o\"\n",
      "------ temperature: 0.2\n",
      "es, glömdes och dömdes till långvarigt utanförskap. \n",
      "vi vänder inte åter till ett sverige där över en miljon människor, var femte svensk i arbetsför ålder, ställs utanför. där arbetslinjen avvecklas och starka samhälle för att starka statliga ekonomiska krisens beslut och statsför att starka arbetslivet. \n",
      "för att för att utveckla sverige ska stärka den svenska samhälle för att stärka för att skapa en stabilden och starka statsföretagare i vårt land för att starka arbete och statsföreläggas och ansvar för för att föreläggas om för att beslutar sverige ska vara en samlad stora som ska vara en vi\n",
      "------ temperature: 0.4\n",
      " en stabilden och starka statsföretagare i vårt land för att starka arbete och statsföreläggas och ansvar för för att föreläggas om för att beslutar sverige ska vara en samlad stora som ska vara en viktiga utrikespolitik utvecklas. \n",
      "en miljöpolitiska samarbeten och möjlighet att föreslå en arbetsmarknaden ska delar av en begarande som starkt ett statliga staten för för att kunna berad, och vi ska föreslå sverige skall minska investeringar och område som stora samtalet för att ansvar för att utvecklas. \n",
      "den svenska sammanhangs- och en dagar och beslut att vi har statliga en skolan för näringsli\n",
      "------ temperature: 0.6\n",
      "föreslå sverige skall minska investeringar och område som stora samtalet för att ansvar för att utvecklas. \n",
      "den svenska sammanhangs- och en dagar och beslut att vi har statliga en skolan för näringslivsmedelsstatens narkonvis och en minska strationerna för att stabba si stora för att föreläggas om och med och och en arbetar har ett statliga reformer har att vi ska ge den svenska omställning måste lära grunden för sverige på arbetsmarknaden och utrikespolitiska och samla för att stimulera vårt sverige att stärka fri jämställda viljas innebär en av det största samtidsför att beslut som skall var\n",
      "epoch 11\n",
      "Epoch 1/1\n",
      "305067/305067 [==============================] - 1753s 6ms/step - loss: 1.1842\n",
      "--- Generating with seed: \"gränsande som konkur-rensstimulerande åtgärder. särskilda åtgärder vidtas för att få fram bostäder till unga.\n",
      "förslag till nytt bostadsfinansierings- och bostadsbidragssystem föreläggs riksdagen. förs\"\n",
      "------ temperature: 0.2\n",
      "gränsande som konkur-rensstimulerande åtgärder. särskilda åtgärder vidtas för att få fram bostäder till unga.\n",
      "förslag till nytt bostadsfinansierings- och bostadsbidragssystem föreläggs riksdagen. förslag för att förbättras. den ska förbättras. den ska vara en ny för att förbättras. för att förbättras. det ska vara en för att stärka samhället för att förbättras. för att stärka skattereform ska förbättras. för att förbättras. sverige ska förbättras. den ska vara en för att förbättras. för att förbättras. den ska vara en frihet och stora konkurrenskraft och regeringen skall få en för att förbättr\n",
      "------ temperature: 0.4\n",
      "ättras. för att förbättras. sverige ska förbättras. den ska vara en för att förbättras. för att förbättras. den ska vara en frihet och stora konkurrenskraft och regeringen skall få en för att förbättras. för att få för sverige ska förbättras. det skall få en välskatt ansvar för sverige att förbättras. sverige ska vara en politik för att göra för att stärka mål i människor och mål för de starka samhälle ska vara världsfrihet och skapar med för att förbättras. sverige ska vara välfärden ska förbättras. för att i sverige i grupper som för att förbättras. att motverka samhällen och förbeteggremen \n",
      "------ temperature: 0.6\n",
      "hälle ska vara världsfrihet och skapar med för att förbättras. sverige ska vara välfärden ska förbättras. för att i sverige i grupper som för att förbättras. att motverka samhällen och förbeteggremen i människor på gran medlemskap stärkerna ska förbättras. till välfärden. vi det som supprättas för människan i den att samhällscentral näringslivet. de berymåtlande den förbestämmningar ska vara föräldrarna. näringslivet måste får skapar inte minska företagen och den i fler ska föresam och som unga genomförs med den finansieras för att gälla del av sverige.\n",
      "den ska förbereds. perspektivitet och sk\n",
      "epoch 12\n",
      "Epoch 1/1\n",
      "305067/305067 [==============================] - 1695s 6ms/step - loss: 1.1797\n",
      "--- Generating with seed: \": vården ska finnas när du behöver den. köerna är för långa och ska kortas. primär- vården stärks genom mer resurser till vårdcentralerna. patient- kontrakten utvecklas vidare för patienter med stora \"\n",
      "------ temperature: 0.2\n"
     ]
    },
    {
     "name": "stdout",
     "output_type": "stream",
     "text": [
      ": vården ska finnas när du behöver den. köerna är för långa och ska kortas. primär- vården stärks genom mer resurser till vårdcentralerna. patient- kontrakten utvecklas vidare för patienter med stora samhället. det är att stärka samhället. det är det kommer att föreläggas riksdagen som ska vara ett länder med att beslutas och statsförbättras. framtiden. det är att förbättra sverige skall vara en av att stärka beslutet för fred. den svenska samhället är att stärka samhället. vi vill stärka samhället för att stärka statsbistånd och statsförstärkningar och företagen som ska vara sverige ska vara \n",
      "------ temperature: 0.4\n",
      "v att stärka beslutet för fred. den svenska samhället är att stärka samhället. vi vill stärka samhället för att stärka statsbistånd och statsförstärkningar och företagen som ska vara sverige ska vara ett besluts invandrare. det är "
     ]
    },
    {
     "name": "stderr",
     "output_type": "stream",
     "text": [
      "C:\\Users\\dfu575\\AppData\\Local\\Continuum\\anaconda3\\lib\\site-packages\\ipykernel_launcher.py:3: RuntimeWarning: divide by zero encountered in log\n",
      "  This is separate from the ipykernel package so we can avoid doing imports until\n"
     ]
    },
    {
     "name": "stdout",
     "output_type": "stream",
     "text": [
      "en fasts stärka sig som skall skapa en kvinnor skall skapas för att stärka de kommer att stärka löner att föreläggas riksdagen för fler förstärkningar och statsbidragen skall bestämmare ska stärkas. det är att till att av människor och företagen. sverige skall vara en fred och utbildning och att försvara prioritera den svenska och fortsatta respekter och ställning av\n",
      "------ temperature: 0.6\n",
      "skall bestämmare ska stärkas. det är att till att av människor och företagen. sverige skall vara en fred och utbildning och att försvara prioritera den svenska och fortsatta respekter och ställning av en ny arbetsmarknadspolitiken har vården skall fler klimatpolitiken kommer att få med en vill att arbetsmarknaden. sverige är en ny statsinnorg i sverige ska vara det av miljön och den ekonomiska politiken och arbetslöshetssystemet.\n",
      "skolan. stormer ska bestämmande för att bli hela sverige skall fortsatt de nya partners politik som visar mymiling och att stödja att föra en kraft för stort skall ge\n",
      "epoch 13\n",
      "Epoch 1/1\n",
      "305067/305067 [==============================] - 1946s 6ms/step - loss: 1.1739\n",
      "--- Generating with seed: \"lla europas länder och folk. inom ramen för den europeiska säkerhets- och samarbetskonferensen, esk, kommer regeringen att aktivt verka för tillkomsten av ett sådant system. målet är en fredsordning s\"\n",
      "------ temperature: 0.2\n",
      "lla europas länder och folk. inom ramen för den europeiska säkerhets- och samarbetskonferensen, esk, kommer regeringen att aktivt verka för tillkomsten av ett sådant system. målet är en fredsordning ska förbättra stärkas. \n",
      "sverige skall värna sig för att förena en av att stärka sammanhållning och arbetslösheten skall förbättra samman. \n",
      "det är att stärka sammanhållning av arbetslösheten och företagens företagens företagens betydelse för att stärka företagen och för att stärka sammanhållning och sverige skall föra en ny företagen och stärkas. \n",
      "det svenska samhälle. \n",
      "det svenska förbättras. sveri\n",
      "------ temperature: 0.4\n",
      "ens företagens företagens betydelse för att stärka företagen och för att stärka sammanhållning och sverige skall föra en ny företagen och stärkas. \n",
      "det svenska samhälle. \n",
      "det svenska förbättras. sverige skall ges ansvar för att förena en ny tillgång till ansvar för att värna företag av när kommer att få en strävan att ge avgörande stor välfärden skall bereda arbetet för att fortsätta att de som skapa trygghet och stabil som förbättra att skapa beted- och företagen för en ny arbetslösheten för att stärka företagen. det som skapa en ny kris måste fortsatt stärka och värde. \n",
      "de skadar utgångspoli\n",
      "------ temperature: 0.6\n",
      "apa trygghet och stabil som förbättra att skapa beted- och företagen för en ny arbetslösheten för att stärka företagen. det som skapa en ny kris måste fortsatt stärka och värde. \n",
      "de skadar utgångspolitiken skall ges förebygga nationer för att välja när entruktion. \n",
      "klyfter på tergännt sammanvårt betivklitar att stärka för arbetsmarknaden för kortande så skada av den ekonomi inte kraftigt kommer att bevara kärnvar som har ett bättre nu i det kommer att föreläggas varin särskilda insatser och särskilt och medborgarna som likda arbetet för att bättre bör förverkligsresultat vännisa stort land, ka\n",
      "epoch 14\n",
      "Epoch 1/1\n",
      "305067/305067 [==============================] - 1952s 6ms/step - loss: 1.1821\n",
      "--- Generating with seed: \"låga eller normala inkomster att påverka sin situation genom eget arbete. \n",
      "enskilda och familjer skall få mer att säga till om och förväntas ta ansvar, för sig själv och för andra. föräldrar ska ha de\"\n",
      "------ temperature: 0.2\n",
      "låga eller normala inkomster att påverka sin situation genom eget arbete. \n",
      "enskilda och familjer skall få mer att säga till om och förväntas ta ansvar, för sig själv och för andra. föräldrar ska ha det skall bekämpa ansvar för att föreslå att föreslå att vara ett samhället för att föreslå att föreslå att föreslå att föreslå att föreslå att föreslå att föreslå att föreslå en stark och första statsfinanserna och förslag om en första stärkas. det är att stärka samhället skall förena en samlade stora de första statsfinanserna och välfärden skall förankringen av vård och företag och förslag om att \n",
      "------ temperature: 0.4\n",
      "inanserna och förslag om en första stärkas. det är att stärka samhället skall förena en samlade stora de första statsfinanserna och välfärden skall förankringen av vård och företag och förslag om att föreslå större utrikespolitiken skall fortsätta för att skapa en principer och statsbidrag. sverige skall med samhället i det svenska statsbidrag. en statsråd och ansvar för statliga omsorg i en politiken och en välfärden och företag ska förankring och andra för att föreslå riksdagen skall ges mandatperioden för att stärka statsberiksförändring att föreslå att utveckla och starkare investeringspro\n",
      "------ temperature: 0.6\n",
      "iken och en välfärden och företag ska förankring och andra för att föreslå riksdagen skall ges mandatperioden för att stärka statsberiksförändring att föreslå att utveckla och starkare investeringsprogram som företag med tandblet av förslag som litet med ett arbetslösheten i dem stärks. det höjs för att tas för att föreslå stor samhälle i en nordiska ungdomar i egen att sverige skall kunna fullfölja det för en till arbetsmarknadspolitiken har aktivt ansvar för de skola och om en arbetslivet för inkomstskraften. en företag att stå handlingspolitiken kommer att lärare vi stärka den förhandlingar\n",
      "epoch 15\n",
      "Epoch 1/1\n",
      "305067/305067 [==============================] - 3831s 13ms/step - loss: 1.1595\n",
      "--- Generating with seed: \"sämrat värde på kronan eller en expansion av finanspolitiken. utsikterna att i sverige kunna kombinera en god tillväxt med låg inflation är goda. räntorna har halverats. investeringarna är höga. köpkr\"\n",
      "------ temperature: 0.2\n",
      "sämrat värde på kronan eller en expansion av finanspolitiken. utsikterna att i sverige kunna kombinera en god tillväxt med låg inflation är goda. räntorna har halverats. investeringarna är höga. köpkrationer och starka sverige ska förbättras. en stark och ställas. det stödjas och ansvar för att stärka frihetsförsäkringen och första byggas. det statliga frihet och första stöd. det ska vara en bred statliga regeringen ska förbättra det svenska folket ska vara ett stora skatter som kan arbeta och första ställningspolitiken ska vara ett starka samhället och konser och skatterepper och statliga sta\n",
      "------ temperature: 0.4\n",
      "statliga regeringen ska förbättra det svenska folket ska vara ett stora skatter som kan arbeta och första ställningspolitiken ska vara ett starka samhället och konser och skatterepper och statliga statliga områden för att vara en statliga skyddet och omsorgen ska kunna förbättras i det är arbetsmarknaden och samhället kan bedriva stort ska vara sverige är att vara en starkt och kraft och målet är att inte stärkas. det svenska samhället skall vi ställa skatterionerna och ansvar för den svenska problem som är sverige ska fortsätta arbetsmarknadens friheten och omställning och första biliket och \n",
      "------ temperature: 0.6\n",
      "att inte stärkas. det svenska samhället skall vi ställa skatterionerna och ansvar för den svenska problem som är sverige ska fortsätta arbetsmarknadens friheten och omställning och första biliket och stockbernvinnorna inte till statliga skyddet för människor till år görs för att bidra till ett beredningen ökar från och ställing och att kommer att föresa svensk utveckling, integritet ska möta en fler första färdning och vi skärps av omställning av integritetsbetydelse och processar att ha vi är sverige ska vara en konfliktnad intensifieras. friheten kommer att den företagande tid på vårt land m\n",
      "epoch 16\n",
      "Epoch 1/1\n",
      "305067/305067 [==============================] - 2096s 7ms/step - loss: 1.1691\n",
      "--- Generating with seed: \"dalingar, romer och judar. en filmvårdscentral förläggs till grängesberg. den kraftigt sänkta bokmomsen måste komma alla sveriges bokälskare till del. \n",
      "regeringen fortsätter sin mångåriga satsning på \"\n",
      "------ temperature: 0.2\n",
      "dalingar, romer och judar. en filmvårdscentral förläggs till grängesberg. den kraftigt sänkta bokmomsen måste komma alla sveriges bokälskare till del. \n",
      "regeringen fortsätter sin mångåriga satsning på att förstärka för att stärka samhället. sverige ska vara en bra stormande och för att stärka för att stärka prisen är den svenska konstrukturomsorgen för att förbättras. en strategi och för att stärka för att stärka för att stärka och stora för att stärka storm och stora statsfinanserna och möjligheter att förbättras. en statsbidragen för att utvecklas i en bra stora statsfinanserna för att stärka\n",
      "------ temperature: 0.4\n",
      " för att stärka för att stärka och stora för att stärka storm och stora statsfinanserna och möjligheter att förbättras. en statsbidragen för att utvecklas i en bra stora statsfinanserna för att stärka kärnskapsbestämmning och hälsoför att bli en bra en statspolitiken för att en internationella den stöd för att uthålla kontrollnad i sverige att förbättras. en ny nytt uppmärksamheten i vår för att ta ansvar för att vi kommer att föreläggas riksdagen för att vi ställa när till en ny statsfinanserna för att stärka för att vi ska vara en fasts. \n",
      "kraftiga institiket för det enskilden och barnfamling\n",
      "------ temperature: 0.6\n",
      "a ansvar för att vi kommer att föreläggas riksdagen för att vi ställa när till en ny statsfinanserna för att stärka för att vi ska vara en fasts. \n",
      "kraftiga institiket för det enskilden och barnfamlingspolitiken i sverige att stärka uppgifter för att i vår varen i det större målen mellan den svenska sig att kommer att inrättas på för den svenska förskolan från ansvar till industrilägns ökad ledarskap och ordning som en stats- och landsting ska ha till ansvaret till den ny naturerns statsstyrelsen är den ekonomiska konflikterna, ställning och protenterna skall fortsätta. de kommuner i vårt land \n",
      "epoch 17\n",
      "Epoch 1/1\n",
      "305067/305067 [==============================] - 1505s 5ms/step - loss: 1.1633\n",
      "--- Generating with seed: \"r ett delat ansvar för människor som tvingas fly. sveriges stöd till fn:s flyktingkommissarie ökar. sverige arbetar för en gemensam och solidarisk flyktingpolitik inom eu. skyddet av barn som kommer e\"\n",
      "------ temperature: 0.2\n",
      "r ett delat ansvar för människor som tvingas fly. sveriges stöd till fn:s flyktingkommissarie ökar. sverige arbetar för en gemensam och solidarisk flyktingpolitik inom eu. skyddet av barn som kommer ett större miljön för att föreläggas riksdagen ska förbättras. ett större möjligheter att stå för att stå för att vi vill stå för att förbättra en starka samhällen och stödja betydelse av sverige ska få ett större stora ska vara ska vara ett stora sina förena regeringen ska fortsätta till arbetsmarknaden ska förbereda det som ska vara ett större miljöpolitik som stå för att stå för att stå för att \n",
      "------ temperature: 0.4\n",
      "å ett större stora ska vara ska vara ett stora sina förena regeringen ska fortsätta till arbetsmarknaden ska förbereda det som ska vara ett större miljöpolitik som stå för att stå för att stå för att klara förbättras. \n",
      "vi har ska vara ett större utveckling i samhället ska förbättras. \n",
      "sverige kan stå som står att fler som ska vara ett större statens försäkringen ökar kommer att förbättras. ett miljövänliga om stort inflation att att föra en politik i syfte att verka för att stärka samhällsbyggen för att det sverige ska vara en pensioner och ansvar för en föreläggs om så att arbetslöshet och st\n",
      "------ temperature: 0.6\n",
      "jövänliga om stort inflation att att föra en politik i syfte att verka för att stärka samhällsbyggen för att det sverige ska vara en pensioner och ansvar för en föreläggs om så att arbetslöshet och starta insatser för att förbättras. det är mer satsningar kunnata världen tillsammans reforma riksdagen ska genomföra ett leddiska första en stort internationella utbildningen höjs. skolan för tryggare och regeringens arbete och för att vi ska genomföras och en viss ska regeringen ska fortsätta till den privata vår för ett betydande ekonomiska och sociala under likvande och företag finn skall ta en \n",
      "epoch 18\n",
      "Epoch 1/1\n",
      "305067/305067 [==============================] - 1487s 5ms/step - loss: 1.1756\n",
      "--- Generating with seed: \"om har lägst inkomster förbättras genom att bostadstillägget höjs. \n",
      "människor med funktionshinder skall ha goda möjligheter till delaktighet. lagstiftningen skall skärpas för att förhindra diskriminer\"\n",
      "------ temperature: 0.2\n",
      "om har lägst inkomster förbättras genom att bostadstillägget höjs. \n",
      "människor med funktionshinder skall ha goda möjligheter till delaktighet. lagstiftningen skall skärpas för att förhindra diskriminering och statsfinanserna och skattesänta och för att föra ett stabilisering och statsfunden och statsfinanserna och skattesäntas.\n",
      "en stabilisering som vi ska vara en stabilisering som ska vara statsfinanserna och stabiliteten och förstärka statsfinanserna och statsfinanserna som ska få stater för att stabiliteten i svenska förstärka samtidigt som ska vara en stater.\n",
      "den svenska sambinder och svensk\n",
      "------ temperature: 0.4\n",
      "anserna och stabiliteten och förstärka statsfinanserna och statsfinanserna som ska få stater för att stabiliteten i svenska förstärka samtidigt som ska vara en stater.\n",
      "den svenska sambinder och svenska samarbete inom den statliga förstärka till att inriktas på att starta till arbetslivet för att föra ett brett förverkliga inte minst med alla och statlig ställning som en strategi för att föra en marknad som ska vara en av en strategi. \n",
      "svenskt samhälle. \n",
      "vi vill ska få för alla land för att stärka för att kommer att föra ett viss förstärkas.\n",
      "regeringen kommer att förbandjämna strategiska ekonom\n",
      "------ temperature: 0.6\n",
      "rknad som ska vara en av en strategi. \n",
      "svenskt samhälle. \n",
      "vi vill ska få för alla land för att stärka för att kommer att föra ett viss förstärkas.\n",
      "regeringen kommer att förbandjämna strategiska ekonomisk politiken till kraft och ett veåger för att stärka samarbets för att ge flyktingstatsarbetslösheten är vi kommer att bekämpa stock och betydelse för att stärka och de som inte möjligt att en stabilisering av förstärkling till förstärker kraven rätt ska fortsätta att vara en klimatslutteller för att klaras för att vara en politiken kommer att fler fortsnatsskatten för politikelna kommer att bek\n",
      "epoch 19\n",
      "Epoch 1/1\n",
      "305067/305067 [==============================] - 1485s 5ms/step - loss: 1.1583\n",
      "--- Generating with seed: \" nya jobb, ser varje människas förmåga och möjlighet att bidra – men också för ett sverige som klarar den omställning som kommer att behövas. \n",
      "vår förmåga att ta ansvar i dag möjliggör för oss att byg\"\n",
      "------ temperature: 0.2\n",
      " nya jobb, ser varje människas förmåga och möjlighet att bidra – men också för ett sverige som klarar den omställning som kommer att behövas. \n",
      "vår förmåga att ta ansvar i dag möjliggör för oss att bygga ett land till att större miljö. det som står i det större barn och statsbestämmen och en större miljö och för att företagande för att bekämpas för att stärka och för att värna våra samhälle och miljö. en stort för att ställas för att stärka välfärd och större minska stort större vara inte läggs fram och större med att företagande för att företagande och företagare för att föreläggs med att före\n",
      "------ temperature: 0.4\n",
      "jö. en stort för att ställas för att stärka välfärd och större minska stort större vara inte läggs fram och större med att företagande för att företagande och företagare för att föreläggs med att företaga sverige i sverige är det berriggingen av att bereda en strävande. \n",
      "vi vill syftar till att förbättra större politiken skall försvara för att företagande i sverige skall bekämpa arbetslösheten skall till att ta uppgift i ansvaret med att företagande för att behåla sverige skall företagande är att fortsatt år ställas för att föreligen för att föra en internationell samarbete i sveriges behoven \n",
      "------ temperature: 0.6\n"
     ]
    },
    {
     "name": "stdout",
     "output_type": "stream",
     "text": [
      "ll till att ta uppgift i ansvaret med att företagande för att behåla sverige skall företagande är att fortsatt år ställas för att föreligen för att föra en internationell samarbete i sveriges behoven i samhället blir den blivitet måste ligger fasta företagande värnas och samman. en viktig förslag som som beredskap i en av och samman. ett löner till fastig beredska förbättrade produktionen ökar med all stor utveckling och det är sverige skall gränser måste fortsätter. underskottsstöden och om att avser av att läggas unier har som att större för den ekonomiska försäkringen om de fastig ansvarsfö\n",
      "epoch 20\n",
      "Epoch 1/1\n",
      "305067/305067 [==============================] - 1484s 5ms/step - loss: 1.1574\n",
      "--- Generating with seed: \"d och andra växthusgaser måste mötas genom internationell samverkan.\n",
      "fn:s roll i miljövårdsarbetet måste stärkas. regeringen avser att ta initiativ till en bred diskussion om internationella miljöregl\"\n",
      "------ temperature: 0.2\n",
      "d och andra växthusgaser måste mötas genom internationell samverkan.\n",
      "fn:s roll i miljövårdsarbetet måste stärkas. regeringen avser att ta initiativ till en bred diskussion om internationella miljöregler för att ställa att ställa att ställa att ställa att förenta frihet och statens förslag om att ställa samhället skall bygga samhället skall bevara framåt att arbete i arbetet med att ställa att ställa att vi ska föra en stark ställning i staten i sverige ska behövs för att förena samlingsparter för att ställa att ställa att ställa att ställa samhället är att ställa att ställa ska vara av sverige\n",
      "------ temperature: 0.4\n",
      "la att vi ska föra en stark ställning i staten i sverige ska behövs för att förena samlingsparter för att ställa att ställa att ställa att ställa samhället är att ställa att ställa ska vara av sverige har ställning som skall ha ett sverige för att ställa att utvecklas. vi vill framför att ställa att beslut att föreläggas riksdagen kan stärka regeringen är en strävande utrymme behöver en strävande utbildning och samlingen mellan staterna för sverige genom att ställa en striden skall föresättras. staterna. det är att skapa människor och sverige kommer att står för stockhotshistorg skall föreslås\n",
      "------ temperature: 0.6\n",
      "utbildning och samlingen mellan staterna för sverige genom att ställa en striden skall föresättras. staterna. det är att skapa människor och sverige kommer att står för stockhotshistorg skall föreslås för det största satsning och möjligheter att vara en ny bäriktighet kommer sverige har och sådanterna skall ländade människor av det enskildatförxuller för framtiden i nordiska bli utbildning ska kunna ingen för det stärks. rikt står ansvar för starka samarbetet för en måste ställer vi ska föra det att läsamdet att står så att stora utråde är att den svenska folket införs för att bli del av den s\n",
      "epoch 21\n",
      "Epoch 1/1\n",
      "160128/305067 [==============>...............] - ETA: 12:04:45 - loss: 1.1743"
     ]
    },
    {
     "ename": "KeyboardInterrupt",
     "evalue": "",
     "output_type": "error",
     "traceback": [
      "\u001b[1;31m---------------------------------------------------------------------------\u001b[0m",
      "\u001b[1;31mKeyboardInterrupt\u001b[0m                         Traceback (most recent call last)",
      "\u001b[1;32m<ipython-input-129-e170ccf86bd2>\u001b[0m in \u001b[0;36m<module>\u001b[1;34m()\u001b[0m\n\u001b[0;32m      7\u001b[0m     model.fit(x, y,\n\u001b[0;32m      8\u001b[0m               \u001b[0mbatch_size\u001b[0m\u001b[1;33m=\u001b[0m\u001b[1;36m128\u001b[0m\u001b[1;33m,\u001b[0m\u001b[1;33m\u001b[0m\u001b[0m\n\u001b[1;32m----> 9\u001b[1;33m               epochs=1)\n\u001b[0m\u001b[0;32m     10\u001b[0m \u001b[1;33m\u001b[0m\u001b[0m\n\u001b[0;32m     11\u001b[0m     \u001b[1;31m# Select a text seed at random\u001b[0m\u001b[1;33m\u001b[0m\u001b[1;33m\u001b[0m\u001b[0m\n",
      "\u001b[1;32m~\\AppData\\Local\\Continuum\\anaconda3\\lib\\site-packages\\keras\\engine\\training.py\u001b[0m in \u001b[0;36mfit\u001b[1;34m(self, x, y, batch_size, epochs, verbose, callbacks, validation_split, validation_data, shuffle, class_weight, sample_weight, initial_epoch, steps_per_epoch, validation_steps, **kwargs)\u001b[0m\n\u001b[0;32m   1035\u001b[0m                                         \u001b[0minitial_epoch\u001b[0m\u001b[1;33m=\u001b[0m\u001b[0minitial_epoch\u001b[0m\u001b[1;33m,\u001b[0m\u001b[1;33m\u001b[0m\u001b[0m\n\u001b[0;32m   1036\u001b[0m                                         \u001b[0msteps_per_epoch\u001b[0m\u001b[1;33m=\u001b[0m\u001b[0msteps_per_epoch\u001b[0m\u001b[1;33m,\u001b[0m\u001b[1;33m\u001b[0m\u001b[0m\n\u001b[1;32m-> 1037\u001b[1;33m                                         validation_steps=validation_steps)\n\u001b[0m\u001b[0;32m   1038\u001b[0m \u001b[1;33m\u001b[0m\u001b[0m\n\u001b[0;32m   1039\u001b[0m     def evaluate(self, x=None, y=None,\n",
      "\u001b[1;32m~\\AppData\\Local\\Continuum\\anaconda3\\lib\\site-packages\\keras\\engine\\training_arrays.py\u001b[0m in \u001b[0;36mfit_loop\u001b[1;34m(model, f, ins, out_labels, batch_size, epochs, verbose, callbacks, val_f, val_ins, shuffle, callback_metrics, initial_epoch, steps_per_epoch, validation_steps)\u001b[0m\n\u001b[0;32m    197\u001b[0m                     \u001b[0mins_batch\u001b[0m\u001b[1;33m[\u001b[0m\u001b[0mi\u001b[0m\u001b[1;33m]\u001b[0m \u001b[1;33m=\u001b[0m \u001b[0mins_batch\u001b[0m\u001b[1;33m[\u001b[0m\u001b[0mi\u001b[0m\u001b[1;33m]\u001b[0m\u001b[1;33m.\u001b[0m\u001b[0mtoarray\u001b[0m\u001b[1;33m(\u001b[0m\u001b[1;33m)\u001b[0m\u001b[1;33m\u001b[0m\u001b[0m\n\u001b[0;32m    198\u001b[0m \u001b[1;33m\u001b[0m\u001b[0m\n\u001b[1;32m--> 199\u001b[1;33m                 \u001b[0mouts\u001b[0m \u001b[1;33m=\u001b[0m \u001b[0mf\u001b[0m\u001b[1;33m(\u001b[0m\u001b[0mins_batch\u001b[0m\u001b[1;33m)\u001b[0m\u001b[1;33m\u001b[0m\u001b[0m\n\u001b[0m\u001b[0;32m    200\u001b[0m                 \u001b[0mouts\u001b[0m \u001b[1;33m=\u001b[0m \u001b[0mto_list\u001b[0m\u001b[1;33m(\u001b[0m\u001b[0mouts\u001b[0m\u001b[1;33m)\u001b[0m\u001b[1;33m\u001b[0m\u001b[0m\n\u001b[0;32m    201\u001b[0m                 \u001b[1;32mfor\u001b[0m \u001b[0ml\u001b[0m\u001b[1;33m,\u001b[0m \u001b[0mo\u001b[0m \u001b[1;32min\u001b[0m \u001b[0mzip\u001b[0m\u001b[1;33m(\u001b[0m\u001b[0mout_labels\u001b[0m\u001b[1;33m,\u001b[0m \u001b[0mouts\u001b[0m\u001b[1;33m)\u001b[0m\u001b[1;33m:\u001b[0m\u001b[1;33m\u001b[0m\u001b[0m\n",
      "\u001b[1;32m~\\AppData\\Local\\Continuum\\anaconda3\\lib\\site-packages\\keras\\backend\\tensorflow_backend.py\u001b[0m in \u001b[0;36m__call__\u001b[1;34m(self, inputs)\u001b[0m\n\u001b[0;32m   2664\u001b[0m                 \u001b[1;32mreturn\u001b[0m \u001b[0mself\u001b[0m\u001b[1;33m.\u001b[0m\u001b[0m_legacy_call\u001b[0m\u001b[1;33m(\u001b[0m\u001b[0minputs\u001b[0m\u001b[1;33m)\u001b[0m\u001b[1;33m\u001b[0m\u001b[0m\n\u001b[0;32m   2665\u001b[0m \u001b[1;33m\u001b[0m\u001b[0m\n\u001b[1;32m-> 2666\u001b[1;33m             \u001b[1;32mreturn\u001b[0m \u001b[0mself\u001b[0m\u001b[1;33m.\u001b[0m\u001b[0m_call\u001b[0m\u001b[1;33m(\u001b[0m\u001b[0minputs\u001b[0m\u001b[1;33m)\u001b[0m\u001b[1;33m\u001b[0m\u001b[0m\n\u001b[0m\u001b[0;32m   2667\u001b[0m         \u001b[1;32melse\u001b[0m\u001b[1;33m:\u001b[0m\u001b[1;33m\u001b[0m\u001b[0m\n\u001b[0;32m   2668\u001b[0m             \u001b[1;32mif\u001b[0m \u001b[0mpy_any\u001b[0m\u001b[1;33m(\u001b[0m\u001b[0mis_tensor\u001b[0m\u001b[1;33m(\u001b[0m\u001b[0mx\u001b[0m\u001b[1;33m)\u001b[0m \u001b[1;32mfor\u001b[0m \u001b[0mx\u001b[0m \u001b[1;32min\u001b[0m \u001b[0minputs\u001b[0m\u001b[1;33m)\u001b[0m\u001b[1;33m:\u001b[0m\u001b[1;33m\u001b[0m\u001b[0m\n",
      "\u001b[1;32m~\\AppData\\Local\\Continuum\\anaconda3\\lib\\site-packages\\keras\\backend\\tensorflow_backend.py\u001b[0m in \u001b[0;36m_call\u001b[1;34m(self, inputs)\u001b[0m\n\u001b[0;32m   2634\u001b[0m                                 \u001b[0msymbol_vals\u001b[0m\u001b[1;33m,\u001b[0m\u001b[1;33m\u001b[0m\u001b[0m\n\u001b[0;32m   2635\u001b[0m                                 session)\n\u001b[1;32m-> 2636\u001b[1;33m         \u001b[0mfetched\u001b[0m \u001b[1;33m=\u001b[0m \u001b[0mself\u001b[0m\u001b[1;33m.\u001b[0m\u001b[0m_callable_fn\u001b[0m\u001b[1;33m(\u001b[0m\u001b[1;33m*\u001b[0m\u001b[0marray_vals\u001b[0m\u001b[1;33m)\u001b[0m\u001b[1;33m\u001b[0m\u001b[0m\n\u001b[0m\u001b[0;32m   2637\u001b[0m         \u001b[1;32mreturn\u001b[0m \u001b[0mfetched\u001b[0m\u001b[1;33m[\u001b[0m\u001b[1;33m:\u001b[0m\u001b[0mlen\u001b[0m\u001b[1;33m(\u001b[0m\u001b[0mself\u001b[0m\u001b[1;33m.\u001b[0m\u001b[0moutputs\u001b[0m\u001b[1;33m)\u001b[0m\u001b[1;33m]\u001b[0m\u001b[1;33m\u001b[0m\u001b[0m\n\u001b[0;32m   2638\u001b[0m \u001b[1;33m\u001b[0m\u001b[0m\n",
      "\u001b[1;32m~\\AppData\\Local\\Continuum\\anaconda3\\lib\\site-packages\\tensorflow\\python\\client\\session.py\u001b[0m in \u001b[0;36m__call__\u001b[1;34m(self, *args, **kwargs)\u001b[0m\n\u001b[0;32m   1380\u001b[0m           ret = tf_session.TF_SessionRunCallable(\n\u001b[0;32m   1381\u001b[0m               \u001b[0mself\u001b[0m\u001b[1;33m.\u001b[0m\u001b[0m_session\u001b[0m\u001b[1;33m.\u001b[0m\u001b[0m_session\u001b[0m\u001b[1;33m,\u001b[0m \u001b[0mself\u001b[0m\u001b[1;33m.\u001b[0m\u001b[0m_handle\u001b[0m\u001b[1;33m,\u001b[0m \u001b[0margs\u001b[0m\u001b[1;33m,\u001b[0m \u001b[0mstatus\u001b[0m\u001b[1;33m,\u001b[0m\u001b[1;33m\u001b[0m\u001b[0m\n\u001b[1;32m-> 1382\u001b[1;33m               run_metadata_ptr)\n\u001b[0m\u001b[0;32m   1383\u001b[0m         \u001b[1;32mif\u001b[0m \u001b[0mrun_metadata\u001b[0m\u001b[1;33m:\u001b[0m\u001b[1;33m\u001b[0m\u001b[0m\n\u001b[0;32m   1384\u001b[0m           \u001b[0mproto_data\u001b[0m \u001b[1;33m=\u001b[0m \u001b[0mtf_session\u001b[0m\u001b[1;33m.\u001b[0m\u001b[0mTF_GetBuffer\u001b[0m\u001b[1;33m(\u001b[0m\u001b[0mrun_metadata_ptr\u001b[0m\u001b[1;33m)\u001b[0m\u001b[1;33m\u001b[0m\u001b[0m\n",
      "\u001b[1;31mKeyboardInterrupt\u001b[0m: "
     ]
    }
   ],
   "source": [
    "import random\n",
    "import sys\n",
    "\n",
    "##Modellträning\n",
    "for epoch in range(1, 65):\n",
    "    print('epoch', epoch)\n",
    "    # Här sker själva träningen, att model fit mha av input x och output y\n",
    "    model.fit(x, y,\n",
    "              batch_size=128,\n",
    "              epochs=1)\n",
    "\n",
    "    \n",
    "    \n",
    "    ##Utvärderign efter varje Epoch\n",
    "    \n",
    "    # Slumpa fram ett seed från regeringsförklaringarna\n",
    "    start_index = random.randint(0, len(regf) - maxlen - 1)\n",
    "    generated_text = regf[start_index: start_index + maxlen]\n",
    "    print('--- Generating with seed: \"' + generated_text + '\"')\n",
    "\n",
    "    for temperature in [0.2, 0.4,0.6]:\n",
    "        print('------ temperature:', temperature)\n",
    "        sys.stdout.write(generated_text)\n",
    "\n",
    "        # Efter seed, skapa 400 characters av text\n",
    "        for i in range(400):\n",
    "            sampled = np.zeros((1, maxlen, len(chars)))\n",
    "            for t, char in enumerate(generated_text):\n",
    "                sampled[0, t, char_indices[char]] = 1.\n",
    "\n",
    "            preds = model.predict(sampled, verbose=0)[0]\n",
    "            next_index = sample(preds, temperature)\n",
    "            next_char = chars[next_index]\n",
    "\n",
    "            generated_text += next_char\n",
    "            generated_text = generated_text[1:]\n",
    "\n",
    "            sys.stdout.write(next_char)\n",
    "            sys.stdout.flush()\n",
    "        print()"
   ]
  },
  {
   "cell_type": "markdown",
   "metadata": {},
   "source": [
    "##### Spara modellen\n",
    "för att kunna köra modellen efter att notebooken stängts"
   ]
  },
  {
   "cell_type": "code",
   "execution_count": null,
   "metadata": {},
   "outputs": [],
   "source": [
    "model.save('regf_master.h5')"
   ]
  },
  {
   "cell_type": "markdown",
   "metadata": {},
   "source": [
    " "
   ]
  },
  {
   "cell_type": "markdown",
   "metadata": {},
   "source": [
    " "
   ]
  },
  {
   "cell_type": "markdown",
   "metadata": {},
   "source": [
    " "
   ]
  },
  {
   "cell_type": "markdown",
   "metadata": {},
   "source": [
    "## Resultatet: Hemsida med regeringsförklaringar!\n",
    "\n",
    "På http://airegeringen.pythonanywhere.com/ kan man läsa ett flertal regeringsförklaring själv!\n"
   ]
  },
  {
   "cell_type": "code",
   "execution_count": 8,
   "metadata": {},
   "outputs": [
    {
     "data": {
      "text/html": [
       "<iframe src=http://airegeringen.pythonanywhere.com/ width=1000 height=500></iframe>"
      ],
      "text/plain": [
       "<IPython.core.display.HTML object>"
      ]
     },
     "execution_count": 8,
     "metadata": {},
     "output_type": "execute_result"
    }
   ],
   "source": [
    "from IPython.display import HTML\n",
    "HTML('<iframe src=http://airegeringen.pythonanywhere.com/ width=1000 height=500></iframe>')"
   ]
  },
  {
   "cell_type": "markdown",
   "metadata": {},
   "source": [
    " "
   ]
  },
  {
   "cell_type": "markdown",
   "metadata": {},
   "source": [
    " "
   ]
  },
  {
   "cell_type": "markdown",
   "metadata": {},
   "source": [
    " "
   ]
  },
  {
   "cell_type": "markdown",
   "metadata": {},
   "source": [
    " "
   ]
  },
  {
   "cell_type": "markdown",
   "metadata": {},
   "source": [
    " "
   ]
  },
  {
   "cell_type": "markdown",
   "metadata": {},
   "source": [
    " "
   ]
  },
  {
   "cell_type": "markdown",
   "metadata": {},
   "source": [
    " "
   ]
  },
  {
   "cell_type": "markdown",
   "metadata": {},
   "source": [
    " "
   ]
  },
  {
   "cell_type": "markdown",
   "metadata": {},
   "source": [
    " "
   ]
  },
  {
   "cell_type": "markdown",
   "metadata": {},
   "source": [
    "# Kan man göra bättre Textgenerering än såhär?\n",
    "\n",
    "Absolut, den här övningen skrapar bara på ytan! AI-regeringen skapades på ett gäng timmar över en knapp vecka.\n",
    "\n",
    "Ai-regeringen visar dock tydligt att vi ska skilja på mänsklig intelligens och neurala nätverk: AI-regeringen räknar enbart matematik, och kommer under lång tid framöver inte kunna \"skapa egna idéer\"/påvisa mänsklig förståelse för texten den genererar. Den kan dock slumpa fram intressanta politiska ny-ord så som \"brottsoffentliga finanser\" och \"förenklingspolitik\"\n",
    "\n",
    "Några saker man tillägga är:\n",
    "\n",
    "\n",
    "Köra på ord-nivå istället för bokstavsnivå: man förlorar möjligheten till spännande nyord, men kan få mer sammanhöngande meningar\n",
    "\n",
    "\n",
    "Addera ordklasser och applicera grammatiskt korrekta ordföljder\n",
    "\n",
    "\n",
    "Entity recognition: Att modellen förstår att \"Sverige\" är ett land och \"Sven\" en person\n",
    "\n",
    "\n",
    "\n",
    "\n"
   ]
  },
  {
   "cell_type": "markdown",
   "metadata": {},
   "source": [
    " "
   ]
  },
  {
   "cell_type": "markdown",
   "metadata": {},
   "source": [
    " "
   ]
  },
  {
   "cell_type": "markdown",
   "metadata": {},
   "source": [
    " "
   ]
  },
  {
   "cell_type": "markdown",
   "metadata": {},
   "source": [
    " "
   ]
  },
  {
   "cell_type": "markdown",
   "metadata": {},
   "source": [
    " "
   ]
  },
  {
   "cell_type": "markdown",
   "metadata": {},
   "source": [
    " "
   ]
  },
  {
   "cell_type": "markdown",
   "metadata": {},
   "source": [
    " "
   ]
  },
  {
   "cell_type": "markdown",
   "metadata": {},
   "source": [
    "\n",
    "\n",
    "\n",
    "\n",
    "# State of the art för text-generering - GPT-2?"
   ]
  },
  {
   "cell_type": "markdown",
   "metadata": {},
   "source": [
    "![Google och Chollet](GPT-2_.png)"
   ]
  },
  {
   "cell_type": "code",
   "execution_count": 104,
   "metadata": {},
   "outputs": [
    {
     "data": {
      "text/html": [
       "<iframe src=https://blog.openai.com/better-language-models/ width=1000 height=800></iframe>"
      ],
      "text/plain": [
       "<IPython.core.display.HTML object>"
      ]
     },
     "execution_count": 104,
     "metadata": {},
     "output_type": "execute_result"
    }
   ],
   "source": [
    "HTML('<iframe src=https://blog.openai.com/better-language-models/ width=1000 height=800></iframe>')"
   ]
  },
  {
   "cell_type": "markdown",
   "metadata": {},
   "source": [
    " "
   ]
  },
  {
   "cell_type": "markdown",
   "metadata": {},
   "source": [
    " "
   ]
  },
  {
   "cell_type": "markdown",
   "metadata": {},
   "source": [
    " "
   ]
  },
  {
   "cell_type": "markdown",
   "metadata": {},
   "source": [
    " "
   ]
  },
  {
   "cell_type": "markdown",
   "metadata": {},
   "source": [
    " "
   ]
  },
  {
   "cell_type": "markdown",
   "metadata": {},
   "source": [
    "# Är \"AI\" redo att ta över Regeringens arbete?"
   ]
  },
  {
   "cell_type": "markdown",
   "metadata": {},
   "source": [
    "![Slutsats](Slutsats_AIreg_.png)"
   ]
  },
  {
   "cell_type": "markdown",
   "metadata": {},
   "source": [
    " "
   ]
  },
  {
   "cell_type": "markdown",
   "metadata": {},
   "source": [
    " "
   ]
  },
  {
   "cell_type": "markdown",
   "metadata": {},
   "source": [
    " "
   ]
  },
  {
   "cell_type": "markdown",
   "metadata": {},
   "source": [
    " "
   ]
  },
  {
   "cell_type": "markdown",
   "metadata": {},
   "source": [
    " "
   ]
  },
  {
   "cell_type": "markdown",
   "metadata": {},
   "source": [
    " "
   ]
  },
  {
   "cell_type": "markdown",
   "metadata": {},
   "source": [
    " "
   ]
  },
  {
   "cell_type": "markdown",
   "metadata": {},
   "source": [
    " "
   ]
  },
  {
   "cell_type": "markdown",
   "metadata": {},
   "source": [
    " "
   ]
  },
  {
   "cell_type": "markdown",
   "metadata": {},
   "source": [
    " "
   ]
  },
  {
   "cell_type": "markdown",
   "metadata": {},
   "source": [
    " "
   ]
  },
  {
   "cell_type": "markdown",
   "metadata": {},
   "source": [
    " "
   ]
  },
  {
   "cell_type": "markdown",
   "metadata": {},
   "source": [
    " "
   ]
  },
  {
   "cell_type": "markdown",
   "metadata": {},
   "source": [
    " "
   ]
  },
  {
   "cell_type": "markdown",
   "metadata": {},
   "source": [
    " "
   ]
  },
  {
   "cell_type": "markdown",
   "metadata": {},
   "source": [
    " "
   ]
  },
  {
   "cell_type": "markdown",
   "metadata": {},
   "source": [
    " "
   ]
  },
  {
   "cell_type": "markdown",
   "metadata": {},
   "source": [
    " "
   ]
  },
  {
   "cell_type": "markdown",
   "metadata": {},
   "source": [
    " "
   ]
  },
  {
   "cell_type": "markdown",
   "metadata": {},
   "source": [
    " "
   ]
  },
  {
   "cell_type": "markdown",
   "metadata": {},
   "source": [
    " "
   ]
  },
  {
   "cell_type": "markdown",
   "metadata": {},
   "source": [
    " "
   ]
  },
  {
   "cell_type": "markdown",
   "metadata": {},
   "source": [
    " "
   ]
  },
  {
   "cell_type": "markdown",
   "metadata": {},
   "source": [
    " "
   ]
  },
  {
   "cell_type": "markdown",
   "metadata": {},
   "source": [
    " "
   ]
  },
  {
   "cell_type": "markdown",
   "metadata": {},
   "source": [
    " "
   ]
  },
  {
   "cell_type": "markdown",
   "metadata": {},
   "source": [
    " "
   ]
  },
  {
   "cell_type": "markdown",
   "metadata": {},
   "source": [
    " "
   ]
  },
  {
   "cell_type": "markdown",
   "metadata": {},
   "source": [
    " "
   ]
  },
  {
   "cell_type": "markdown",
   "metadata": {},
   "source": [
    " "
   ]
  },
  {
   "cell_type": "markdown",
   "metadata": {},
   "source": [
    " "
   ]
  },
  {
   "cell_type": "markdown",
   "metadata": {},
   "source": [
    " "
   ]
  },
  {
   "cell_type": "markdown",
   "metadata": {},
   "source": [
    " "
   ]
  },
  {
   "cell_type": "markdown",
   "metadata": {},
   "source": [
    " "
   ]
  },
  {
   "cell_type": "markdown",
   "metadata": {},
   "source": [
    " "
   ]
  },
  {
   "cell_type": "markdown",
   "metadata": {},
   "source": [
    " "
   ]
  },
  {
   "cell_type": "markdown",
   "metadata": {},
   "source": [
    " "
   ]
  },
  {
   "cell_type": "markdown",
   "metadata": {},
   "source": [
    " "
   ]
  },
  {
   "cell_type": "markdown",
   "metadata": {},
   "source": [
    " "
   ]
  },
  {
   "cell_type": "markdown",
   "metadata": {},
   "source": [
    " "
   ]
  }
 ],
 "metadata": {
  "kernelspec": {
   "display_name": "Python 3",
   "language": "python",
   "name": "python3"
  },
  "language_info": {
   "codemirror_mode": {
    "name": "ipython",
    "version": 3
   },
   "file_extension": ".py",
   "mimetype": "text/x-python",
   "name": "python",
   "nbconvert_exporter": "python",
   "pygments_lexer": "ipython3",
   "version": "3.6.5"
  }
 },
 "nbformat": 4,
 "nbformat_minor": 2
}
